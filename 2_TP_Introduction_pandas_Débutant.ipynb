{
  "cells": [
    {
      "cell_type": "markdown",
      "metadata": {
        "id": "view-in-github",
        "colab_type": "text"
      },
      "source": [
        "<a href=\"https://colab.research.google.com/github/gdemerges/simplon_exercices/blob/master/2_TP_Introduction_pandas_De%CC%81butant.ipynb\" target=\"_parent\"><img src=\"https://colab.research.google.com/assets/colab-badge.svg\" alt=\"Open In Colab\"/></a>"
      ]
    },
    {
      "cell_type": "markdown",
      "metadata": {
        "id": "44105490-a6e2-4f9c-b69f-d4fdd14add98"
      },
      "source": [
        "# Pratique de pandas : un exemple complet\n",
        "\n",
        "Les exemples de ce TP sont visualisables sous forme de `Jupyter Notebooks`:\n",
        "\n",
        "Dans cette série d’exercices `Pandas`, nous allons découvrir comment manipuler plusieursjeux de données avec `Python`.\n",
        "\n",
        "Dans ce tutoriel, nous allons utiliser deux sources de données :\n",
        "\n",
        "-   Les émissions de gaz à effet de serre estimées au niveau communal par l’`ADEME`. Le jeu de données est\n",
        "    disponible sur [data.gouv](https://www.data.gouv.fr/fr/datasets/inventaire-de-gaz-a-effet-de-serre-territorialise/#_)\n",
        "    et requêtable directement dans `Python` avec\n",
        "    [cet url](https://koumoul.com/s/data-fair/api/v1/datasets/igt-pouvoir-de-rechauffement-global/convert) (ce sera l’objet du premier exercice).\n",
        "-   Idéalement, on utiliserait directement les données\n",
        "    [disponibles sur le site de l’Insee](https://www.insee.fr/fr/statistiques/3560121) mais celles-ci nécessitent un peu de travail\n",
        "    de nettoyage qui n’entre pas dans le cadre de ce TP.\n",
        "    Pour faciliter l’import de données Insee, il est recommandé d’utiliser le *package*\n",
        "    [`pynsee`](https://pynsee.readthedocs.io/en/latest/) qui simplifie l’accès aux données\n",
        "    de l’Insee disponibles sur le site web [insee.fr](https://www.insee.fr/fr/accueil)\n",
        "    ou via des API.\n",
        "\n",
        "La librairie `pynsee` n’est pas installée par défaut avec `Python`. Avant de pouvoir l’utiliser, il est nécessaire de l’installer :"
      ],
      "id": "44105490-a6e2-4f9c-b69f-d4fdd14add98"
    },
    {
      "cell_type": "code",
      "execution_count": null,
      "metadata": {
        "id": "0e0457e9",
        "colab": {
          "base_uri": "https://localhost:8080/"
        },
        "outputId": "8ec011c1-ddc0-49c6-c7c6-48c04789d0e7"
      },
      "outputs": [
        {
          "output_type": "stream",
          "name": "stdout",
          "text": [
            "Requirement already satisfied: xlrd in /usr/local/lib/python3.10/dist-packages (2.0.1)\n",
            "Collecting pynsee\n",
            "  Downloading pynsee-0.1.5-py3-none-any.whl (9.8 MB)\n",
            "\u001b[2K     \u001b[90m━━━━━━━━━━━━━━━━━━━━━━━━━━━━━━━━━━━━━━━━\u001b[0m \u001b[32m9.8/9.8 MB\u001b[0m \u001b[31m1.4 MB/s\u001b[0m eta \u001b[36m0:00:00\u001b[0m\n",
            "\u001b[?25hRequirement already satisfied: pandas>=0.24.2 in /usr/local/lib/python3.10/dist-packages (from pynsee) (1.5.3)\n",
            "Requirement already satisfied: tqdm>=4.56.0 in /usr/local/lib/python3.10/dist-packages (from pynsee) (4.66.2)\n",
            "Requirement already satisfied: requests>=2.23 in /usr/local/lib/python3.10/dist-packages (from pynsee) (2.31.0)\n",
            "Requirement already satisfied: appdirs>=1.4.4 in /usr/local/lib/python3.10/dist-packages (from pynsee) (1.4.4)\n",
            "Collecting unidecode>=1.1.0 (from pynsee)\n",
            "  Downloading Unidecode-1.3.8-py3-none-any.whl (235 kB)\n",
            "\u001b[2K     \u001b[90m━━━━━━━━━━━━━━━━━━━━━━━━━━━━━━━━━━━━━━━━\u001b[0m \u001b[32m235.5/235.5 kB\u001b[0m \u001b[31m25.5 MB/s\u001b[0m eta \u001b[36m0:00:00\u001b[0m\n",
            "\u001b[?25hRequirement already satisfied: shapely>=1.8.0 in /usr/local/lib/python3.10/dist-packages (from pynsee) (2.0.3)\n",
            "Requirement already satisfied: urllib3 in /usr/local/lib/python3.10/dist-packages (from pynsee) (2.0.7)\n",
            "Requirement already satisfied: python-dateutil>=2.8.1 in /usr/local/lib/python3.10/dist-packages (from pandas>=0.24.2->pynsee) (2.8.2)\n",
            "Requirement already satisfied: pytz>=2020.1 in /usr/local/lib/python3.10/dist-packages (from pandas>=0.24.2->pynsee) (2023.4)\n",
            "Requirement already satisfied: numpy>=1.21.0 in /usr/local/lib/python3.10/dist-packages (from pandas>=0.24.2->pynsee) (1.25.2)\n",
            "Requirement already satisfied: charset-normalizer<4,>=2 in /usr/local/lib/python3.10/dist-packages (from requests>=2.23->pynsee) (3.3.2)\n",
            "Requirement already satisfied: idna<4,>=2.5 in /usr/local/lib/python3.10/dist-packages (from requests>=2.23->pynsee) (3.6)\n",
            "Requirement already satisfied: certifi>=2017.4.17 in /usr/local/lib/python3.10/dist-packages (from requests>=2.23->pynsee) (2024.2.2)\n",
            "Requirement already satisfied: six>=1.5 in /usr/local/lib/python3.10/dist-packages (from python-dateutil>=2.8.1->pandas>=0.24.2->pynsee) (1.16.0)\n",
            "Installing collected packages: unidecode, pynsee\n",
            "Successfully installed pynsee-0.1.5 unidecode-1.3.8\n"
          ]
        }
      ],
      "source": [
        "!pip install xlrd\n",
        "!pip install pynsee"
      ],
      "id": "0e0457e9"
    },
    {
      "cell_type": "markdown",
      "metadata": {
        "id": "9a2d08ba-a06c-4bb5-8ae9-8ffa05fbbf89"
      },
      "source": [
        "Toutes les dépendances indispensables étant installées, il suffit\n",
        "maintenant d’importer les librairies qui seront utilisées\n",
        "pendant ces exercices :"
      ],
      "id": "9a2d08ba-a06c-4bb5-8ae9-8ffa05fbbf89"
    },
    {
      "cell_type": "code",
      "execution_count": null,
      "metadata": {
        "id": "8fb01c61"
      },
      "outputs": [],
      "source": [
        "import numpy as np\n",
        "import pandas as pd\n",
        "import matplotlib.pyplot as plt\n",
        "import pynsee\n",
        "import pynsee.download"
      ],
      "id": "8fb01c61"
    },
    {
      "cell_type": "markdown",
      "metadata": {
        "id": "2cd9a295-1118-4bf9-900a-206ef70cbaea"
      },
      "source": [
        "## Importer les données\n",
        "\n",
        "### Import d’un csv de l’Ademe\n",
        "\n",
        "L’URL d’accès aux données peut être conservé dans une variable *ad hoc* :"
      ],
      "id": "2cd9a295-1118-4bf9-900a-206ef70cbaea"
    },
    {
      "cell_type": "code",
      "execution_count": null,
      "metadata": {
        "id": "f09c37f1"
      },
      "outputs": [],
      "source": [
        "url = \"https://koumoul.com/s/data-fair/api/v1/datasets/igt-pouvoir-de-rechauffement-global/convert\""
      ],
      "id": "f09c37f1"
    },
    {
      "cell_type": "markdown",
      "metadata": {
        "id": "d0ed2273-fb6b-498b-8301-2d438fa677b9"
      },
      "source": [
        "L’objectif du premier exercice est de se familiariser à l’import et l’affichage de données\n",
        "avec `Pandas`."
      ],
      "id": "d0ed2273-fb6b-498b-8301-2d438fa677b9"
    },
    {
      "cell_type": "markdown",
      "metadata": {
        "id": "71592fff-e48d-4a8f-b080-95bb8ec272bb"
      },
      "source": [
        "<div class=\"alert alert-success\" role=\"alert\" style=\"color: rgba(0,0,0,.8); background-color: white; margin-top: 1em; margin-bottom: 1em; margin:1.5625emauto; padding:0 .6rem .8rem!important;overflow:hidden; page-break-inside:avoid; border-radius:.25rem; box-shadow:0 .2rem .5rem rgba(0,0,0,.05),0 0 .05rem rgba(0,0,0,.1); transition:color .25s,background-color .25s,border-color .25s ; border-right: 1px solid #dee2e6 ; border-top: 1px solid #dee2e6 ; border-bottom: 1px solid #dee2e6 ; border-left:.2rem solid #3fb618;\">\n",
        "<h3 class=\"alert-heading\"><i class=\"fa fa-pencil\"></i> Exercice 1: Importer un CSV et explorer la structure de données</h3>\n",
        "\n",
        "1.  Importer les données de l’Ademe à l’aide du package `Pandas` et de la commande consacrée pour l’import de csv. Nommer le `DataFrame` obtenu `emissions`[1].  \n",
        "2.  Utiliser les méthodes adéquates afin d’afficher pour les 10 premières valeurs, les 15 dernières et un échantillon aléatoire de 10 valeurs grâce aux méthodes adéquates du *package* `Pandas`.  \n",
        "3.  Tirer 5 pourcents de l’échantillon sans remise.  \n",
        "4.  Ne conserver que les 10 premières lignes et tirer aléatoirement dans celles-ci pour obtenir un DataFrame de 100 données.  \n",
        "5.  Faire 100 tirages à partir des 6 premières lignes avec une probabilité de 1/2 pour la première observation et une probabilité uniforme pour les autres.  \n",
        "\n",
        "<details>\n",
        "\n",
        "<summary>\n",
        "\n",
        "En cas de blocage à la question 1\n",
        "\n",
        "</summary>\n",
        "\n",
        "Lire la documentation de `read_csv` (très bien faite) ou chercher des exemples\n",
        "en ligne pour découvrir cette fonction.\n",
        "\n",
        "</details>\n",
        "\n",
        "</div>\n",
        "\n",
        "[1] Par manque d’imagination, on est souvent tenté d’appeler notre\n",
        "*dataframe* principal `df` ou `data`. C’est souvent une mauvaise idée puisque\n",
        "ce nom n’est pas très informatif quand on relit le code quelques semaines\n",
        "plus tard. L’autodocumentation, approche qui consiste à avoir un code\n",
        "qui se comprend de lui-même, est une bonne pratique et il est donc recommandé\n",
        "de donner un nom simple mais efficace pour connaître la nature du *dataset* en question."
      ],
      "id": "71592fff-e48d-4a8f-b080-95bb8ec272bb"
    },
    {
      "cell_type": "code",
      "execution_count": null,
      "metadata": {
        "colab": {
          "base_uri": "https://localhost:8080/"
        },
        "id": "a3sL4EA4It_z",
        "outputId": "cfd0a3a9-2f68-4909-ba04-7755d5a1f19e"
      },
      "outputs": [
        {
          "output_type": "stream",
          "name": "stdout",
          "text": [
            "10 premières valeurs :\n",
            "  INSEE commune                  Commune  Agriculture  Autres transports  \\\n",
            "0         01001  L'ABERGEMENT-CLEMENCIAT  3711.425991                NaN   \n",
            "1         01002    L'ABERGEMENT-DE-VAREY   475.330205                NaN   \n",
            "2         01004        AMBERIEU-EN-BUGEY   499.043526         212.577908   \n",
            "3         01005      AMBERIEUX-EN-DOMBES  1859.160954                NaN   \n",
            "4         01006                  AMBLEON   448.966808                NaN   \n",
            "5         01007                 AMBRONAY  4390.996698         132.968268   \n",
            "6         01008                 AMBUTRIX   489.648726          60.233517   \n",
            "7         01009         ANDERT-ET-CONDON   676.468367                NaN   \n",
            "8         01010                ANGLEFORT  1070.411510         143.815664   \n",
            "9         01011                 APREMONT  2010.790441                NaN   \n",
            "\n",
            "   Autres transports international  CO2 biomasse hors-total      Déchets  \\\n",
            "0                              NaN               432.751835   101.430476   \n",
            "1                              NaN               140.741660   140.675439   \n",
            "2                              NaN             10313.446515  5314.314445   \n",
            "3                              NaN              1144.429311   216.217508   \n",
            "4                              NaN                77.033834    48.401549   \n",
            "5                              NaN              3067.245459  6144.186081   \n",
            "6                              NaN               558.055709    98.388885   \n",
            "7                              NaN               207.181968   149.767083   \n",
            "8                              NaN              1286.621447   146.525382   \n",
            "9                              NaN               249.086914    52.103791   \n",
            "\n",
            "      Energie  Industrie hors-énergie   Résidentiel       Routier  \\\n",
            "0    2.354558                6.911213    309.358195    793.156501   \n",
            "1    2.354558                6.911213    104.866444    348.997893   \n",
            "2  998.332482             2930.354461  16616.822534  15642.420313   \n",
            "3   94.182310              276.448534    663.683146   1756.341319   \n",
            "4         NaN                     NaN     43.714019    398.786800   \n",
            "5  122.437003              359.383094   1898.638273  22481.123575   \n",
            "6    2.354558                6.911213    495.393592   3616.168396   \n",
            "7    2.354558                6.911213    141.533662    696.956038   \n",
            "8  341.410872           175185.892467    448.518801   3199.808360   \n",
            "9    2.354558                6.911213    151.844891    686.153720   \n",
            "\n",
            "      Tertiaire  \n",
            "0    367.036172  \n",
            "1    112.934207  \n",
            "2  10732.376934  \n",
            "3    782.404357  \n",
            "4     51.681756  \n",
            "5   2789.133106  \n",
            "6    356.029873  \n",
            "7    161.266219  \n",
            "8   1206.147643  \n",
            "9    188.542701  \n",
            "\n",
            "15 dernières valeurs :\n",
            "      INSEE commune              Commune  Agriculture  Autres transports  \\\n",
            "35783         95628           VALMONDOIS   646.421867           9.055189   \n",
            "35784         95633          VAUDHERLAND    48.361025                NaN   \n",
            "35785         95637              VAUREAL   203.969473          93.811651   \n",
            "35786         95641               VEMARS  1510.886844         146.089307   \n",
            "35787         95651             VETHEUIL   125.928390         175.096168   \n",
            "35788         95652              VIARMES   252.094735          55.168176   \n",
            "35789         95656    VIENNE-EN-ARTHIES   324.827105                NaN   \n",
            "35790         95658                VIGNY  1289.190261                NaN   \n",
            "35791         95660  VILLAINES-SOUS-BOIS   447.132894          18.996282   \n",
            "35792         95675             VILLERON  1335.123315           4.975886   \n",
            "35793         95676   VILLERS-EN-ARTHIES  1628.065094                NaN   \n",
            "35794         95678        VILLIERS-ADAM   698.630772                NaN   \n",
            "35795         95680      VILLIERS-LE-BEL   107.564967                NaN   \n",
            "35796         95682      VILLIERS-LE-SEC  1090.890170                NaN   \n",
            "35797         95690  WY-DIT-JOLI-VILLAGE  1495.103542                NaN   \n",
            "\n",
            "       Autres transports international  CO2 biomasse hors-total      Déchets  \\\n",
            "35783                         0.201508               633.754921   158.691749   \n",
            "35784                              NaN                47.061403    10.314964   \n",
            "35785                         5.412508              2876.820106   129.738126   \n",
            "35786                              NaN              2382.550523    19.173651   \n",
            "35787                        10.102258               290.066886   114.522546   \n",
            "35788                              NaN              1278.247866    43.526914   \n",
            "35789                              NaN                98.346155    57.129030   \n",
            "35790                              NaN              1616.838995  2297.572718   \n",
            "35791                              NaN               207.294216    92.966916   \n",
            "35792                              NaN              1625.523404   104.075339   \n",
            "35793                              NaN               165.045396    65.063617   \n",
            "35794                              NaN              1331.126598   111.480954   \n",
            "35795                              NaN              8367.174532   225.622903   \n",
            "35796                              NaN               326.748418   108.969749   \n",
            "35797                              NaN               125.236417    97.728612   \n",
            "\n",
            "          Energie  Industrie hors-énergie   Résidentiel       Routier  \\\n",
            "35783  136.564349              400.850374   2272.901317    589.164544   \n",
            "35784    2.354558                6.911213     34.490233    439.279632   \n",
            "35785   63.573059              186.602760  13963.143585   4982.982966   \n",
            "35786  251.937678              739.499829   2791.215196  17783.179831   \n",
            "35787   16.481904               48.378493   1439.077120   1472.779256   \n",
            "35788   40.027482              117.490627   6546.179324   5705.777606   \n",
            "35789    2.354558                6.911213    158.726900    305.819555   \n",
            "35790  313.156180              919.191376   1424.373138   8539.961119   \n",
            "35791   11.772789               34.556067   1023.037832    912.992023   \n",
            "35792  320.219853              939.925016    617.177184   7740.572805   \n",
            "35793   11.772789               34.556067    176.098160    309.627908   \n",
            "35794    2.354558                6.911213   1395.529811  18759.370071   \n",
            "35795  534.484607             1568.845431  22613.830247  12217.122402   \n",
            "35796    2.354558                6.911213     67.235487   4663.232127   \n",
            "35797    4.709115               13.822427    117.450851    504.400972   \n",
            "\n",
            "          Tertiaire  \n",
            "35783    574.241730  \n",
            "35784    199.435133  \n",
            "35785   7515.388640  \n",
            "35786   2654.384495  \n",
            "35787    414.411115  \n",
            "35788   2521.399729  \n",
            "35789    206.727023  \n",
            "35790    516.817557  \n",
            "35791    336.409947  \n",
            "35792    725.467969  \n",
            "35793    235.439109  \n",
            "35794    403.404815  \n",
            "35795  13849.512001  \n",
            "35796     85.657725  \n",
            "35797    147.867245  \n",
            "\n",
            "Échantillon aléatoire de 10 valeurs :\n",
            "      INSEE commune                  Commune  Agriculture  Autres transports  \\\n",
            "20416         54314                     LEXY   498.745417          14.546266   \n",
            "16172         42086                   ECOCHE  2820.025088                NaN   \n",
            "16243         42160                 NOLLIEUX  1979.953176                NaN   \n",
            "27363         67556                 ZEINHEIM   581.420517                NaN   \n",
            "14757         38363         SAINT-BARTHELEMY  2597.072691                NaN   \n",
            "15586         40113                     GOOS  1414.846768         247.077607   \n",
            "31869         79325              TESSONNIERE  2320.987529                NaN   \n",
            "12611         32412                  SARAMON  2325.063949                NaN   \n",
            "1694          04198  SAINT-VINCENT-LES-FORTS  2855.200310                NaN   \n",
            "27870         69145                   ODENAS  1008.728412                NaN   \n",
            "\n",
            "       Autres transports international  CO2 biomasse hors-total      Déchets  \\\n",
            "20416                              NaN              3608.496745    28.145036   \n",
            "16172                              NaN               311.493219    74.056150   \n",
            "16243                              NaN               116.660074    74.982700   \n",
            "27363                              NaN               137.554450    26.580868   \n",
            "14757                              NaN               718.765143  6002.263897   \n",
            "15586                        14.255261               367.579573    91.353890   \n",
            "31869                              NaN               721.180225   155.916530   \n",
            "12611                              NaN              1354.589197   106.852445   \n",
            "1694                               NaN               280.989166    43.904717   \n",
            "27870                              NaN               511.519436   118.489839   \n",
            "\n",
            "          Energie  Industrie hors-énergie  Résidentiel      Routier  \\\n",
            "20416  489.748010             1437.532377  6838.158520  4207.017148   \n",
            "16172    2.354558                6.911213   204.663575   533.532767   \n",
            "16243    2.354558                6.911213    68.249755   183.050243   \n",
            "27363    2.354558                6.911213   115.895530   196.621138   \n",
            "14757   63.573059              186.602760   734.526112   957.246331   \n",
            "15586    2.354558                6.911213   178.900963   248.061386   \n",
            "31869  101.245983              297.182174   178.115178  2501.114075   \n",
            "12611  273.128698              801.700749   440.697245  1107.296128   \n",
            "1694          NaN                     NaN   195.844981  2268.896734   \n",
            "27870    2.354558                6.911213   369.899054  1389.860823   \n",
            "\n",
            "         Tertiaire  \n",
            "20416  2642.940889  \n",
            "16172   267.979474  \n",
            "16243    86.136259  \n",
            "27363    96.185490  \n",
            "14757   478.056240  \n",
            "15586   256.494639  \n",
            "31869   152.652593  \n",
            "12611   386.656098  \n",
            "1694    158.873545  \n",
            "27870   428.767158  \n",
            "\n",
            "5 pourcents :\n",
            "      INSEE commune                   Commune  Agriculture  Autres transports  \\\n",
            "21006         55364                    MOUZAY  1432.215704         716.828600   \n",
            "12465         32266         MONCORNEIL-GRAZAN  1111.257329                NaN   \n",
            "4257          12213            SAINT-BEAUZELY  4937.163993                NaN   \n",
            "11124         2B164          MONACIA-D'OREZZA   508.717108                NaN   \n",
            "8221          24110  LA CHAPELLE-MONTABOURLET   800.205636                NaN   \n",
            "...             ...                       ...          ...                ...   \n",
            "32463         80600          NOYELLES-SUR-MER  4340.260931         301.436070   \n",
            "28241         70230                     FEDRY  1117.904790         586.508397   \n",
            "972           02581                     PAARS   525.823974                NaN   \n",
            "13808         35267   SAINT-ETIENNE-EN-COGLES  9203.809723                NaN   \n",
            "17084         45214                  MONTIGNY  1149.822024                NaN   \n",
            "\n",
            "       Autres transports international  CO2 biomasse hors-total     Déchets  \\\n",
            "21006                        41.357771               701.165667   95.082806   \n",
            "12465                              NaN               114.717071   20.894414   \n",
            "4257                               NaN               548.986736   87.743549   \n",
            "11124                              NaN                96.176635    4.231780   \n",
            "8221                               NaN                74.909508    9.257019   \n",
            "...                                ...                      ...         ...   \n",
            "32463                              NaN               896.976002   99.579073   \n",
            "28241                        33.838884               190.535332   13.224312   \n",
            "972                                NaN               300.534352   39.276208   \n",
            "13808                              NaN              1714.351837  227.722660   \n",
            "17084                              NaN               189.002812   32.928538   \n",
            "\n",
            "         Energie  Industrie hors-énergie  Résidentiel       Routier  \\\n",
            "21006  21.191020               62.200920   986.571458   2896.611368   \n",
            "12465        NaN                     NaN    81.086938     85.858073   \n",
            "4257    9.418231               27.644853   298.016612   2281.256174   \n",
            "11124   2.354558                6.911213    13.088218    106.436234   \n",
            "8221    2.354558                6.911213    42.281325    199.680123   \n",
            "...          ...                     ...          ...           ...   \n",
            "32463   2.354558                6.911213   391.440329   5816.371301   \n",
            "28241   2.354558                6.911213    60.135473    342.449383   \n",
            "972     2.354558                6.911213   147.252796   1894.813451   \n",
            "13808        NaN                     NaN   951.869955  12030.019713   \n",
            "17084   2.354558                6.911213   154.947253    112.655803   \n",
            "\n",
            "         Tertiaire  \n",
            "21006   344.066503  \n",
            "12465    75.608494  \n",
            "4257    266.065335  \n",
            "11124    15.313113  \n",
            "8221     33.497434  \n",
            "...            ...  \n",
            "32463   360.336685  \n",
            "28241    47.853477  \n",
            "972     142.124828  \n",
            "13808  1897.909963  \n",
            "17084   119.155159  \n",
            "\n",
            "[1790 rows x 12 columns]\n",
            "\n",
            "4eme question :\n",
            "   INSEE commune                Commune  Agriculture  Autres transports  \\\n",
            "7          01009       ANDERT-ET-CONDON   676.468367                NaN   \n",
            "5          01007               AMBRONAY  4390.996698         132.968268   \n",
            "9          01011               APREMONT  2010.790441                NaN   \n",
            "3          01005    AMBERIEUX-EN-DOMBES  1859.160954                NaN   \n",
            "1          01002  L'ABERGEMENT-DE-VAREY   475.330205                NaN   \n",
            "..           ...                    ...          ...                ...   \n",
            "6          01008               AMBUTRIX   489.648726          60.233517   \n",
            "4          01006                AMBLEON   448.966808                NaN   \n",
            "8          01010              ANGLEFORT  1070.411510         143.815664   \n",
            "4          01006                AMBLEON   448.966808                NaN   \n",
            "7          01009       ANDERT-ET-CONDON   676.468367                NaN   \n",
            "\n",
            "    Autres transports international  CO2 biomasse hors-total      Déchets  \\\n",
            "7                               NaN               207.181968   149.767083   \n",
            "5                               NaN              3067.245459  6144.186081   \n",
            "9                               NaN               249.086914    52.103791   \n",
            "3                               NaN              1144.429311   216.217508   \n",
            "1                               NaN               140.741660   140.675439   \n",
            "..                              ...                      ...          ...   \n",
            "6                               NaN               558.055709    98.388885   \n",
            "4                               NaN                77.033834    48.401549   \n",
            "8                               NaN              1286.621447   146.525382   \n",
            "4                               NaN                77.033834    48.401549   \n",
            "7                               NaN               207.181968   149.767083   \n",
            "\n",
            "       Energie  Industrie hors-énergie  Résidentiel       Routier    Tertiaire  \n",
            "7     2.354558                6.911213   141.533662    696.956038   161.266219  \n",
            "5   122.437003              359.383094  1898.638273  22481.123575  2789.133106  \n",
            "9     2.354558                6.911213   151.844891    686.153720   188.542701  \n",
            "3    94.182310              276.448534   663.683146   1756.341319   782.404357  \n",
            "1     2.354558                6.911213   104.866444    348.997893   112.934207  \n",
            "..         ...                     ...          ...           ...          ...  \n",
            "6     2.354558                6.911213   495.393592   3616.168396   356.029873  \n",
            "4          NaN                     NaN    43.714019    398.786800    51.681756  \n",
            "8   341.410872           175185.892467   448.518801   3199.808360  1206.147643  \n",
            "4          NaN                     NaN    43.714019    398.786800    51.681756  \n",
            "7     2.354558                6.911213   141.533662    696.956038   161.266219  \n",
            "\n",
            "[100 rows x 12 columns]\n",
            "\n",
            "5eme question :\n",
            "   INSEE commune                  Commune  Agriculture  Autres transports  \\\n",
            "0          01001  L'ABERGEMENT-CLEMENCIAT  3711.425991                NaN   \n",
            "1          01002    L'ABERGEMENT-DE-VAREY   475.330205                NaN   \n",
            "2          01001  L'ABERGEMENT-CLEMENCIAT  3711.425991                NaN   \n",
            "3          01001  L'ABERGEMENT-CLEMENCIAT  3711.425991                NaN   \n",
            "4          01001  L'ABERGEMENT-CLEMENCIAT  3711.425991                NaN   \n",
            "..           ...                      ...          ...                ...   \n",
            "95         01002    L'ABERGEMENT-DE-VAREY   475.330205                NaN   \n",
            "96         01007                 AMBRONAY  4390.996698         132.968268   \n",
            "97         01001  L'ABERGEMENT-CLEMENCIAT  3711.425991                NaN   \n",
            "98         01001  L'ABERGEMENT-CLEMENCIAT  3711.425991                NaN   \n",
            "99         01002    L'ABERGEMENT-DE-VAREY   475.330205                NaN   \n",
            "\n",
            "    Autres transports international  CO2 biomasse hors-total      Déchets  \\\n",
            "0                               NaN               432.751835   101.430476   \n",
            "1                               NaN               140.741660   140.675439   \n",
            "2                               NaN               432.751835   101.430476   \n",
            "3                               NaN               432.751835   101.430476   \n",
            "4                               NaN               432.751835   101.430476   \n",
            "..                              ...                      ...          ...   \n",
            "95                              NaN               140.741660   140.675439   \n",
            "96                              NaN              3067.245459  6144.186081   \n",
            "97                              NaN               432.751835   101.430476   \n",
            "98                              NaN               432.751835   101.430476   \n",
            "99                              NaN               140.741660   140.675439   \n",
            "\n",
            "       Energie  Industrie hors-énergie  Résidentiel       Routier    Tertiaire  \n",
            "0     2.354558                6.911213   309.358195    793.156501   367.036172  \n",
            "1     2.354558                6.911213   104.866444    348.997893   112.934207  \n",
            "2     2.354558                6.911213   309.358195    793.156501   367.036172  \n",
            "3     2.354558                6.911213   309.358195    793.156501   367.036172  \n",
            "4     2.354558                6.911213   309.358195    793.156501   367.036172  \n",
            "..         ...                     ...          ...           ...          ...  \n",
            "95    2.354558                6.911213   104.866444    348.997893   112.934207  \n",
            "96  122.437003              359.383094  1898.638273  22481.123575  2789.133106  \n",
            "97    2.354558                6.911213   309.358195    793.156501   367.036172  \n",
            "98    2.354558                6.911213   309.358195    793.156501   367.036172  \n",
            "99    2.354558                6.911213   104.866444    348.997893   112.934207  \n",
            "\n",
            "[100 rows x 12 columns]\n"
          ]
        }
      ],
      "source": [
        "emissions = pd.read_csv(url)\n",
        "print(\"10 premières valeurs :\")\n",
        "print(emissions.head(10))\n",
        "print(\"\\n15 dernières valeurs :\")\n",
        "print(emissions.tail(15))\n",
        "print(\"\\nÉchantillon aléatoire de 10 valeurs :\")\n",
        "print(emissions.sample(10))\n",
        "print(\"\\n5 pourcents :\")\n",
        "echantillon_sans_remise = emissions.sample(frac=0.05, replace=False)\n",
        "print(echantillon_sans_remise)\n",
        "print(\"\\n4eme question :\")\n",
        "donnees_100 = emissions.head(10).sample(n=100, replace=True)\n",
        "print(donnees_100)\n",
        "print(\"\\n5eme question :\")\n",
        "premieres_lignes = emissions.head(6)\n",
        "weights = [0.5] + [0.5 / 5] * 5\n",
        "tirages_100 = pd.concat([premieres_lignes.sample(n=1, replace=True, weights=weights) for _ in range(100)], ignore_index=True)\n",
        "print(tirages_100)"
      ],
      "id": "a3sL4EA4It_z"
    },
    {
      "cell_type": "markdown",
      "metadata": {
        "id": "772bbceb-04dc-4a57-8535-a35db8603377"
      },
      "source": [
        "<div class=\"alert alert-success\" role=\"alert\" style=\"color: rgba(0,0,0,.8); background-color: white; margin-top: 1em; margin-bottom: 1em; margin:1.5625emauto; padding:0 .6rem .8rem!important;overflow:hidden; page-break-inside:avoid; border-radius:.25rem; box-shadow:0 .2rem .5rem rgba(0,0,0,.05),0 0 .05rem rgba(0,0,0,.1); transition:color .25s,background-color .25s,border-color .25s ; border-right: 1px solid #dee2e6 ; border-top: 1px solid #dee2e6 ; border-bottom: 1px solid #dee2e6 ; border-left:.2rem solid #3fb618;\">\n",
        "<h3 class=\"alert-heading\"><i class=\"fa fa-pencil\"></i> Exercice 2: Découverte des verbes de <code>Pandas</code> pour manipuler des données</h3>\n",
        "\n",
        "En premier lieu, on propose de se familiariser avec les opérations sur\n",
        "les colonnes.  \n",
        "\n",
        "1.  Créer un *dataframe* `emissions_copy` ne conservant que les colonnes\n",
        "    `INSEE commune`, `Commune`, `Autres transports` et `Autres transports international`  \n",
        "\n",
        "2.  Comme les noms de variables sont peu pratiques, les renommer de la\n",
        "    manière suivante :\n",
        "    -   `INSEE commune` $\\to$ `code_insee`  \n",
        "    -   `Autres transports` $\\to$ `transports`   \n",
        "    -   `Autres transports international` $\\to$ `transports_international`  \n",
        "\n",
        "3.  On propose, pour simplifier, de remplacer les valeurs manquantes (`NA`)\n",
        "    par la valeur 0. Utiliser la\n",
        "    méthode [`fillna`](https://pandas.pydata.org/docs/reference/api/pandas.DataFrame.fillna.html)\n",
        "    pour transformer les valeurs manquantes en 0.  \n",
        "\n",
        "4.  Créer les variables suivantes :  \n",
        "\n",
        "    -   `dep`: le département. Celui-ci peut être créé grâce aux deux premiers caractères de `code_insee` en appliquant la méthode `str` ;  \n",
        "    -   `transports_total`: les émissions du secteur transports (somme des deux variables)  \n",
        "\n",
        "\n",
        "5.  Ordonner les données du plus gros pollueur au plus petit\n",
        "    puis ordonner les données\n",
        "    du plus gros pollueur au plus petit par département (du 01 au 95).  \n",
        "\n",
        "5.  Ne conserver que les communes appartenant aux départements 13 ou 31.\n",
        "    Ordonner ces communes du plus gros pollueur au plus petit.  \n",
        "\n",
        "6.  Calculer les émissions totales par départements  \n"
      ],
      "id": "772bbceb-04dc-4a57-8535-a35db8603377"
    },
    {
      "cell_type": "code",
      "execution_count": null,
      "metadata": {
        "id": "Z1JXck0iIt_0"
      },
      "outputs": [],
      "source": [
        "emissions_copy = emissions[['INSEE commune', 'Commune', 'Autres transports', 'Autres transports international']].copy()\n",
        "emissions_copy.rename(columns={'INSEE commune': 'code_insee', 'Autres transports': 'transports', 'Autres transports international': 'transports_international'}, inplace=True)\n",
        "emissions_copy.fillna(0, inplace=True)\n",
        "emissions_copy['dep'] = emissions_copy['code_insee'].str[:2]\n",
        "emissions_copy['transports_total'] = emissions_copy['transports'] + emissions_copy['transports_international']\n",
        "emissions_departements = emissions_copy.groupby('dep')['transports_total'].sum().reset_index()"
      ],
      "id": "Z1JXck0iIt_0"
    },
    {
      "cell_type": "markdown",
      "metadata": {
        "id": "2e05f4a0-1438-4992-8f8f-4013025568f7"
      },
      "source": [
        "A la question 5, quand on ordonne les communes exclusivement à partir de la variable\n",
        "`transports_total`, on obtient ainsi:"
      ],
      "id": "2e05f4a0-1438-4992-8f8f-4013025568f7"
    },
    {
      "cell_type": "code",
      "execution_count": null,
      "metadata": {
        "id": "3ed52591",
        "outputId": "c8c7b081-e48a-4b33-a6fe-483f55e211ab",
        "colab": {
          "base_uri": "https://localhost:8080/"
        }
      },
      "outputs": [
        {
          "output_type": "stream",
          "name": "stdout",
          "text": [
            "Du plus gros pollueur au plus petit :\n",
            "      code_insee              Commune     transports  \\\n",
            "31108      77291     LE MESNIL-AMELOT  133834.090767   \n",
            "31099      77282            MAUREGARD  133699.072712   \n",
            "31111      77294           MITRY-MORY   89815.529858   \n",
            "30438      76351             LE HAVRE   17358.962736   \n",
            "35426      91479  PARAY-VIEILLE-POSTE  513140.971691   \n",
            "...          ...                  ...            ...   \n",
            "13562      35012     BAIN-DE-BRETAGNE       0.000000   \n",
            "13561      35011               BAILLE       0.000000   \n",
            "13558      35008  AVAILLES-SUR-SEICHE       0.000000   \n",
            "13557      35007              AUBIGNE       0.000000   \n",
            "35797      95690  WY-DIT-JOLI-VILLAGE       0.000000   \n",
            "\n",
            "       transports_international dep  transports_total  \n",
            "31108              3.303394e+06  77      3.437228e+06  \n",
            "31099              3.303394e+06  77      3.437093e+06  \n",
            "31111              2.202275e+06  77      2.292090e+06  \n",
            "30438              2.109460e+06  76      2.126819e+06  \n",
            "35426              7.858782e+05  91      1.299019e+06  \n",
            "...                         ...  ..               ...  \n",
            "13562              0.000000e+00  35      0.000000e+00  \n",
            "13561              0.000000e+00  35      0.000000e+00  \n",
            "13558              0.000000e+00  35      0.000000e+00  \n",
            "13557              0.000000e+00  35      0.000000e+00  \n",
            "35797              0.000000e+00  95      0.000000e+00  \n",
            "\n",
            "[35798 rows x 6 columns]\n",
            "Du plus gros pollueur au plus petit par département :\n",
            "      code_insee                      Commune  transports  \\\n",
            "160        01179                      GRIEGES  617.281080   \n",
            "14         01016                      ARBIGNY  382.957621   \n",
            "382        01427                      TREVOUX  361.901404   \n",
            "307        01348  SAINT-DIDIER-SUR-CHALARONNE  363.104704   \n",
            "358        01402                     SERMOYER  340.973268   \n",
            "...          ...                          ...         ...   \n",
            "35656      95150                      CHAUSSY    0.000000   \n",
            "35655      95149                   CHAUMONTEL    0.000000   \n",
            "35654      95144           CHATENAY-EN-FRANCE    0.000000   \n",
            "35652      95141                     CHARMONT    0.000000   \n",
            "35797      95690          WY-DIT-JOLI-VILLAGE    0.000000   \n",
            "\n",
            "       transports_international dep  transports_total  \n",
            "160                   21.826353  01        639.107433  \n",
            "14                    22.094924  01        405.052545  \n",
            "382                   20.880076  01        382.781480  \n",
            "307                   19.215886  01        382.320590  \n",
            "358                   19.672617  01        360.645885  \n",
            "...                         ...  ..               ...  \n",
            "35656                  0.000000  95          0.000000  \n",
            "35655                  0.000000  95          0.000000  \n",
            "35654                  0.000000  95          0.000000  \n",
            "35652                  0.000000  95          0.000000  \n",
            "35797                  0.000000  95          0.000000  \n",
            "\n",
            "[35798 rows x 6 columns]\n"
          ]
        }
      ],
      "source": [
        "print(\"Du plus gros pollueur au plus petit :\")\n",
        "emissions_copy = emissions_copy.sort_values(by='transports_total', ascending=False)\n",
        "print(emissions_copy)\n",
        "print(\"Du plus gros pollueur au plus petit par département :\")\n",
        "emissions_copy = emissions_copy.sort_values(by=['dep', 'transports_total'], ascending=[True, False])\n",
        "print(emissions_copy)"
      ],
      "id": "3ed52591"
    },
    {
      "cell_type": "markdown",
      "metadata": {
        "id": "515a69c9-dff6-4456-90df-4af6337aa74c"
      },
      "source": [
        "A la question 6, on obtient ce classement :"
      ],
      "id": "515a69c9-dff6-4456-90df-4af6337aa74c"
    },
    {
      "cell_type": "code",
      "execution_count": null,
      "metadata": {
        "id": "74206d00",
        "outputId": "f8fa538a-c438-4836-b1ac-e5c25e2a95eb",
        "colab": {
          "base_uri": "https://localhost:8080/"
        }
      },
      "outputs": [
        {
          "output_type": "stream",
          "name": "stdout",
          "text": [
            "      code_insee                   Commune     transports  \\\n",
            "4397       13054                 MARIGNANE  245375.418650   \n",
            "11684      31069                   BLAGNAC  210157.688544   \n",
            "4438       13096  SAINTES-MARIES-DE-LA-MER  271182.758578   \n",
            "4347       13004                     ARLES  148752.651229   \n",
            "4398       13056                 MARTIGUES    2712.749275   \n",
            "...          ...                       ...            ...   \n",
            "11937      31325               MASCARVILLE       0.000000   \n",
            "11938      31326                 MASSABRAC       0.000000   \n",
            "11939      31327                    MAURAN       0.000000   \n",
            "11940      31328                 MAUREMONT       0.000000   \n",
            "12185      31573                   VERFEIL       0.000000   \n",
            "\n",
            "       transports_international dep  transports_total  \n",
            "4397              527360.799265  13     772736.217915  \n",
            "11684             403717.366279  31     613875.054823  \n",
            "4438                   0.000000  13     271182.758578  \n",
            "4347                 569.110507  13     149321.761736  \n",
            "4398               30434.762405  13      33147.511680  \n",
            "...                         ...  ..               ...  \n",
            "11937                  0.000000  31          0.000000  \n",
            "11938                  0.000000  31          0.000000  \n",
            "11939                  0.000000  31          0.000000  \n",
            "11940                  0.000000  31          0.000000  \n",
            "12185                  0.000000  31          0.000000  \n",
            "\n",
            "[723 rows x 6 columns]\n",
            "emissions totales :\n",
            "  dep  transports_total\n",
            "0  13      1.314893e+06\n",
            "1  31      6.335027e+05\n"
          ]
        }
      ],
      "source": [
        "emissions_dep_13_31 = emissions_copy[emissions_copy['dep'].isin(['13', '31'])]\n",
        "emissions_dep_13_31 = emissions_dep_13_31.sort_values(by='transports_total', ascending=False)\n",
        "print(emissions_dep_13_31)\n",
        "print (\"emissions totales :\")\n",
        "emissions_totales_dep_13_31 = emissions_dep_13_31.groupby('dep')['transports_total'].sum().reset_index()\n",
        "print(emissions_totales_dep_13_31)"
      ],
      "id": "74206d00"
    },
    {
      "cell_type": "markdown",
      "metadata": {
        "id": "49f27bd9-d8e0-4548-b4d5-b88f079c03f1"
      },
      "source": [
        "### Import des données de l’Insee\n",
        "\n",
        "En ce qui concerne nos informations communales, on va utiliser l’une des\n",
        "sources de l’Insee les plus utilisées : les données [`Filosofi`](https://www.insee.fr/fr/metadonnees/source/serie/s1172).\n",
        "Afin de faciliter la récupération de celles-ci, nous allons\n",
        "utiliser le *package* communautaire `pynsee` :"
      ],
      "id": "49f27bd9-d8e0-4548-b4d5-b88f079c03f1"
    },
    {
      "cell_type": "markdown",
      "metadata": {
        "id": "70ccfde1-4dd9-4161-9f13-d2e3fed15ff8"
      },
      "source": [
        "<div class=\"alert alert-info\" role=\"alert\" style=\"color: rgba(0,0,0,.8); background-color: white; margin-top: 1em; margin-bottom: 1em; margin:1.5625emauto; padding:0 .6rem .8rem!important;overflow:hidden; page-break-inside:avoid; border-radius:.25rem; box-shadow:0 .2rem .5rem rgba(0,0,0,.05),0 0 .05rem rgba(0,0,0,.1); transition:color .25s,background-color .25s,border-color .25s ; border-right: 1px solid #dee2e6 ; border-top: 1px solid #dee2e6 ; border-bottom: 1px solid #dee2e6 ; border-left:.2rem solid #007bff80;\">\n",
        "<h3 class=\"alert-heading\"><i class=\"fa fa-comment\"></i> Note</h3>\n",
        "\n",
        "Le *package* `pynsee` comporte deux principaux points d’entrée :\n",
        "\n",
        "-   Les API de l’Insee, ce qui sera illustré dans le chapitre consacré.  \n",
        "-   Quelques jeux de données directement issus du site web de\n",
        "    l’Insee ([insee.fr](https://www.insee.fr/fr/accueil))  \n",
        "\n",
        "Dans ce chapitre, nous allons exclusivement utiliser cette deuxième\n",
        "approche. Cela se fera par le module `pynsee.download`.\n",
        "\n",
        "La liste des données disponibles depuis ce *package* est [ici](https://inseefrlab.github.io/DoReMIFaSol/articles/donnees_dispo.html).\n",
        "La fonction `download_file` attend un identifiant unique\n",
        "pour savoir quelle base de données aller chercher et\n",
        "restructurer depuis le\n",
        "site [insee.fr](https://www.insee.fr/fr/accueil).\n"
      ],
      "id": "70ccfde1-4dd9-4161-9f13-d2e3fed15ff8"
    },
    {
      "cell_type": "markdown",
      "metadata": {
        "id": "63ceec35-e2de-4f50-a09a-bc3a2f175e53"
      },
      "source": [
        "On va utiliser les données Filosofi (données de revenus) au niveau communal de 2016.\n",
        "Ce n’est pas la même année que les données d’émission de CO2, ce n’est donc pas parfaitement rigoureux,\n",
        "mais cela permettra tout de même d’illustrer\n",
        "les principales fonctionnalités de `Pandas`\n",
        "\n",
        "Le point d’entrée principal de la fonction `pynsee` est la fonction `download_file`.\n",
        "\n",
        "Le code pour télécharger les données est le suivant :"
      ],
      "id": "63ceec35-e2de-4f50-a09a-bc3a2f175e53"
    },
    {
      "cell_type": "code",
      "execution_count": null,
      "metadata": {
        "id": "4bae1739",
        "colab": {
          "base_uri": "https://localhost:8080/"
        },
        "outputId": "cf75f504-0656-4eda-e420-960cb4fdb7d1"
      },
      "outputs": [
        {
          "output_type": "stream",
          "name": "stderr",
          "text": [
            "Downloading: 100%|██████████| 2.67M/2.67M [00:07<00:00, 368kiB/s]\n",
            "Extracting: 100%|██████████| 10.6M/10.6M [00:00<00:00, 114MB/s]\n"
          ]
        }
      ],
      "source": [
        "from pynsee.download import download_file\n",
        "filosofi = download_file(\"FILOSOFI_COM_2016\")"
      ],
      "id": "4bae1739"
    },
    {
      "cell_type": "markdown",
      "metadata": {
        "id": "6ada7492-1a8f-445c-b510-411f44ed3abe"
      },
      "source": [
        "Le *DataFrame* en question a l’aspect suivant :"
      ],
      "id": "6ada7492-1a8f-445c-b510-411f44ed3abe"
    },
    {
      "cell_type": "code",
      "execution_count": null,
      "metadata": {
        "id": "9eebee34",
        "outputId": "98582f16-8466-4f8e-82cf-252116ac9242",
        "colab": {
          "base_uri": "https://localhost:8080/"
        }
      },
      "outputs": [
        {
          "output_type": "stream",
          "name": "stdout",
          "text": [
            "      CODGEO                   LIBGEO NBMENFISC16 NBPERSMENFISC16  \\\n",
            "0      01001  L'Abergement-Clémenciat         313           795.5   \n",
            "1      01002    L'Abergement-de-Varey         101             248   \n",
            "2      01004        Ambérieu-en-Bugey        6363           14228   \n",
            "3      01005      Ambérieux-en-Dombes         633          1662.5   \n",
            "4      01006                  Ambléon         NaN             NaN   \n",
            "...      ...                      ...         ...             ...   \n",
            "34927  97420           Sainte-Suzanne        7827           23118   \n",
            "34928  97421                  Salazie        2358            6967   \n",
            "34929  97422                Le Tampon       27916         73468.5   \n",
            "34930  97423        Les Trois-Bassins        2386            7105   \n",
            "34931  97424                   Cilaos        2038            5603   \n",
            "\n",
            "                    MED16 PIMP16 TP6016 TP60AGE116 TP60AGE216 TP60AGE316  ...  \\\n",
            "0                   22679    NaN    NaN        NaN        NaN        NaN  ...   \n",
            "1      24382.083333333336    NaN    NaN        NaN        NaN        NaN  ...   \n",
            "2                   19721     49     17         19         22         22  ...   \n",
            "3                   23378    NaN    NaN        NaN        NaN        NaN  ...   \n",
            "4                     NaN    NaN    NaN        NaN        NaN        NaN  ...   \n",
            "...                   ...    ...    ...        ...        ...        ...  ...   \n",
            "34927  15110.666666666666     26     38         53         39         37  ...   \n",
            "34928          11280.9375     12     58        NaN         63         61  ...   \n",
            "34929  14243.809523809525     25     41         56         45         43  ...   \n",
            "34930  14031.785714285716     23     42        NaN         42         41  ...   \n",
            "34931           12034.375     15     53        NaN         60         54  ...   \n",
            "\n",
            "      PPEN16 PPAT16 PPSOC16 PPFAM16 PPMINI16 PPLOGT16 PIMPOT16  \\\n",
            "0        NaN    NaN     NaN     NaN      NaN      NaN      NaN   \n",
            "1        NaN    NaN     NaN     NaN      NaN      NaN      NaN   \n",
            "2         27    8.8     6.9     2.8      2.1        2    -15.7   \n",
            "3        NaN    NaN     NaN     NaN      NaN      NaN      NaN   \n",
            "4        NaN    NaN     NaN     NaN      NaN      NaN      NaN   \n",
            "...      ...    ...     ...     ...      ...      ...      ...   \n",
            "34927   11.8      5    16.2     4.8        8      3.4      -12   \n",
            "34928   14.6    4.5    25.1     6.2     15.9        3       -8   \n",
            "34929   20.2    7.8    16.8     4.3      8.5      3.9    -11.8   \n",
            "34930   13.6      4    16.5     4.6      9.7      2.2    -10.6   \n",
            "34931   16.5    4.2    23.4     5.6     14.3      3.5       -9   \n",
            "\n",
            "                     D116                D916                RD16  \n",
            "0                     NaN                 NaN                 NaN  \n",
            "1                     NaN                 NaN                 NaN  \n",
            "2      10457.083333333334  33880.555555555555   3.239962279688143  \n",
            "3                     NaN                 NaN                 NaN  \n",
            "4                     NaN                 NaN                 NaN  \n",
            "...                   ...                 ...                 ...  \n",
            "34927                7964               33288   4.179809141135108  \n",
            "34928   5758.780487804878   23529.33333333333   4.085818756794149  \n",
            "34929   7434.193548387097             32987.6   4.437280222164367  \n",
            "34930   7575.333333333334  28596.567164179105  3.7749582633343883  \n",
            "34931   6644.347826086957  24427.222222222223  3.6763912518722095  \n",
            "\n",
            "[34932 rows x 29 columns]\n"
          ]
        }
      ],
      "source": [
        "print(filosofi)"
      ],
      "id": "9eebee34"
    },
    {
      "cell_type": "markdown",
      "metadata": {
        "id": "37cf0953-233c-473a-a8ef-cc89c96cccc0"
      },
      "source": [
        "`Pandas` a géré automatiquement les types de variables. Il le fait relativement bien, mais une vérification est toujours utile pour les variables qui ont un statut spécifique.\n",
        "\n",
        "Pour les variables qui ne sont pas en type `float` alors qu’elles devraient l’être, on modifie leur type."
      ],
      "id": "37cf0953-233c-473a-a8ef-cc89c96cccc0"
    },
    {
      "cell_type": "code",
      "execution_count": null,
      "metadata": {
        "id": "20140e35"
      },
      "outputs": [],
      "source": [
        "filosofi.loc[:, filosofi.columns[2:]] = (\n",
        "  filosofi.loc[:, filosofi.columns[2:]]\n",
        "  .apply(pd.to_numeric, errors='coerce')\n",
        ")"
      ],
      "id": "20140e35"
    }
  ],
  "metadata": {
    "colab": {
      "provenance": [],
      "include_colab_link": true
    },
    "kernelspec": {
      "display_name": "Python 3",
      "language": "python",
      "name": "python3"
    },
    "language_info": {
      "codemirror_mode": {
        "name": "ipython",
        "version": 3
      },
      "file_extension": ".py",
      "mimetype": "text/x-python",
      "name": "python",
      "nbconvert_exporter": "python",
      "pygments_lexer": "ipython3",
      "version": "3.6.4"
    }
  },
  "nbformat": 4,
  "nbformat_minor": 5
}