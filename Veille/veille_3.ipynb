{
 "cells": [
  {
   "cell_type": "code",
   "execution_count": null,
   "metadata": {},
   "outputs": [],
   "source": [
    "import pyfiglet\n",
    "from termcolor import colored\n",
    "import random\n",
    "\n",
    "def eid_al_fitr_wishes():\n",
    "    colors = ['red', 'green', 'yellow', 'blue', 'magenta', 'cyan', 'white']\n",
    "    ascii_art = pyfiglet.figlet_format(\"Eid Mubarak!\", font=\"slant\")\n",
    "    print(colored(ascii_art, color=random.choice(colors)))\n",
    "\n",
    "eid_al_fitr_wishes()"
   ]
  },
  {
   "cell_type": "markdown",
   "metadata": {},
   "source": [
    "# Import video Youtube"
   ]
  },
  {
   "cell_type": "code",
   "execution_count": null,
   "metadata": {},
   "outputs": [],
   "source": [
    "from pytube import YouTube\n",
    "\n",
    "video_url = 'https://www.youtube.com/watch?v=bVtm_ube59A'\n",
    "\n",
    "yt = YouTube(video_url)\n",
    "\n",
    "stream = yt.streams.get_highest_resolution()\n",
    "\n",
    "stream.download()\n",
    "\n",
    "print(\"Download completed!\")\n"
   ]
  },
  {
   "cell_type": "markdown",
   "metadata": {},
   "source": [
    "# Correction d'ortographe"
   ]
  },
  {
   "cell_type": "code",
   "execution_count": null,
   "metadata": {},
   "outputs": [],
   "source": [
    "from textblob import TextBlob\n",
    "\n",
    "blob = TextBlob(\"I havv a guud ideea\")\n",
    "\n",
    "corrected_blob = blob.correct()\n",
    "\n",
    "print(\"Texte original :\", blob)\n",
    "print(\"Texte corrigé :\", corrected_blob)\n"
   ]
  },
  {
   "cell_type": "markdown",
   "metadata": {},
   "source": [
    "# Récupération de coordonnées"
   ]
  },
  {
   "cell_type": "code",
   "execution_count": null,
   "metadata": {},
   "outputs": [],
   "source": [
    "from geopy.geocoders import ArcGIS\n",
    "\n",
    "geolocator = ArcGIS()\n",
    "\n",
    "location = geolocator.geocode(\"Lyon, France\")\n",
    "\n",
    "print(\"Latitude:\", location.latitude)\n",
    "print(\"Longitude:\", location.longitude)"
   ]
  },
  {
   "cell_type": "code",
   "execution_count": 111,
   "metadata": {},
   "outputs": [],
   "source": [
    "import qrcode\n",
    "from PIL import Image\n",
    "\n",
    "data = \"https://www.linkedin.com/in/guillaume-demerges/\"\n",
    "\n",
    "# Création d'une instance QRCode. Vous pouvez spécifier la taille, les marges et le niveau de correction d'erreur\n",
    "qr = qrcode.QRCode(\n",
    "    version=1,\n",
    "    error_correction=qrcode.constants.ERROR_CORRECT_H,\n",
    "    box_size=10,\n",
    "    border=4,\n",
    ")\n",
    "\n",
    "# Ajout des données au code QR\n",
    "qr.add_data(data)\n",
    "qr.make(fit=True)\n",
    "\n",
    "# Créer une image pour le code QR avec une couleur de fond et de remplissage personnalisées\n",
    "img = qr.make_image(fill='black', back_color='white')\n",
    "\n",
    "# Sauvegarder le code QR dans un fichier\n",
    "file_path = \"qr_code_custom.png\"\n",
    "img.save(file_path)\n"
   ]
  },
  {
   "cell_type": "markdown",
   "metadata": {},
   "source": [
    "# WebBrowser"
   ]
  },
  {
   "cell_type": "code",
   "execution_count": 115,
   "metadata": {},
   "outputs": [],
   "source": [
    "import webbrowser\n",
    "\n",
    "def find_city_on_google_earth(city_name):\n",
    "    google_earth_url = f'https://earth.google.com/web/search/{city_name}'\n",
    "\n",
    "    webbrowser.open(google_earth_url)\n",
    "\n",
    "find_city_on_google_earth(\"New York City\")"
   ]
  },
  {
   "cell_type": "markdown",
   "metadata": {},
   "source": [
    "# Remove background"
   ]
  },
  {
   "cell_type": "code",
   "execution_count": 116,
   "metadata": {},
   "outputs": [],
   "source": [
    "from rembg import remove\n",
    "from PIL import Image\n",
    "\n",
    "input_path = '/Users/guillaumedemerges/code/simplon/Veille/img/team.jpg'\n",
    "output_path = '/Users/guillaumedemerges/code/simplon/Veille/img/output3.png'\n",
    "input = Image.open(input_path)\n",
    "output = remove(input)\n",
    "output.save(output_path)"
   ]
  },
  {
   "cell_type": "markdown",
   "metadata": {},
   "source": [
    "# Track phone number"
   ]
  },
  {
   "cell_type": "code",
   "execution_count": null,
   "metadata": {},
   "outputs": [],
   "source": [
    "import phonenumbers\n",
    "from phonenumbers import geocoder\n",
    "\n",
    "phone_number_input = input(\"Enter the Phone Number: \")\n",
    "\n",
    "parsed_number = phonenumbers.parse(phone_number_input, \"US\")\n",
    "\n",
    "print(phonenumbers.region_code_for_number(parsed_number))\n",
    "print(geocoder.description_for_number(parsed_number, \"en\"))"
   ]
  },
  {
   "cell_type": "markdown",
   "metadata": {},
   "source": [
    "# PrettyTable"
   ]
  },
  {
   "cell_type": "code",
   "execution_count": null,
   "metadata": {},
   "outputs": [],
   "source": [
    "from prettytable import PrettyTable\n",
    "\n",
    "table = PrettyTable([\"Nom de la ville\", \"Pays\", \"Population\"])\n",
    "\n",
    "table.add_row([\"Paris\", \"France\", \"2,148,271\"])\n",
    "table.add_row([\"Tokyo\", \"Japon\", \"9,273,000\"])\n",
    "table.add_row([\"New York\", \"USA\", \"8,336,817\"])\n",
    "\n",
    "print(table)"
   ]
  },
  {
   "cell_type": "markdown",
   "metadata": {},
   "source": [
    "# PivotTableJS"
   ]
  },
  {
   "cell_type": "code",
   "execution_count": null,
   "metadata": {},
   "outputs": [],
   "source": [
    "import pandas as pd\n",
    "from pivottablejs import pivot_ui\n",
    "\n",
    "df = pd.DataFrame({\n",
    "\n",
    "    'Product': ['Computer', 'Phone', 'Printer', 'Desk', 'Chair'],\n",
    "\n",
    "    'Sales Q1': [100, 150, 80, 90, 120],\n",
    "\n",
    "    'Sales Q2': [110, 120, 60, 80, 130],\n",
    "\n",
    "    'Sales Q3': [120, 130, 70, 60, 110],\n",
    "\n",
    "    'Sales Q4': [130, 140, 90, 70, 120],\n",
    "\n",
    "    'Total Sales': [460, 540, 300, 300, 480],\n",
    "\n",
    "    'Profit Margin %': [15, 25, 20, 10, 18]\n",
    "\n",
    "})\n",
    "\n",
    "pivot_ui(df)\n",
    "\n",
    "pretty_table = PrettyTable()\n",
    "\n",
    "pretty_table.field_names = df.columns.tolist()\n",
    "\n",
    "for index, row in df.iterrows():\n",
    "\n",
    "    pretty_table.add_row(row)\n",
    "\n",
    "print(pretty_table)"
   ]
  },
  {
   "cell_type": "markdown",
   "metadata": {},
   "source": [
    "# PandasAI"
   ]
  },
  {
   "cell_type": "code",
   "execution_count": 118,
   "metadata": {},
   "outputs": [],
   "source": [
    "import os\n",
    "from pandasai import SmartDataframe\n",
    "import json\n",
    "\n",
    "with open('config.json', 'r') as config_file:\n",
    "    config = json.load(config_file)\n",
    "    os.environ[\"PANDASAI_API_KEY\"] = config[\"PANDASAI_API_KEY\"]"
   ]
  },
  {
   "cell_type": "code",
   "execution_count": 120,
   "metadata": {},
   "outputs": [],
   "source": [
    "df = pd.DataFrame({\n",
    "    \"country\": [\n",
    "        \"United States\",\n",
    "        \"United Kingdom\",\n",
    "        \"France\",\n",
    "        \"Germany\",\n",
    "        \"Italy\",\n",
    "        \"Spain\",\n",
    "        \"Canada\",\n",
    "        \"Australia\",\n",
    "        \"Japan\",\n",
    "        \"China\",\n",
    "    ],\n",
    "    \"gdp\": [\n",
    "        19294482071552,\n",
    "        2891615567872,\n",
    "        2411255037952,\n",
    "        3435817336832,\n",
    "        1745433788416,\n",
    "        1181205135360,\n",
    "        1607402389504,\n",
    "        1490967855104,\n",
    "        4380756541440,\n",
    "        14631844184064,\n",
    "    ],\n",
    "    \"happiness_index\": [6.94, 7.16, 6.66, 7.07, 6.38, 6.4, 7.23, 7.22, 5.87, 5.12],\n",
    "})"
   ]
  },
  {
   "cell_type": "code",
   "execution_count": 87,
   "metadata": {},
   "outputs": [],
   "source": [
    "sdf = SmartDataframe(df)"
   ]
  },
  {
   "cell_type": "code",
   "execution_count": null,
   "metadata": {},
   "outputs": [],
   "source": [
    "sdf.chat(\"What's the sum of the gdp of the 2 unhappiest countries?\")"
   ]
  },
  {
   "cell_type": "code",
   "execution_count": null,
   "metadata": {},
   "outputs": [],
   "source": [
    "sdf.chat(\"Plot a chart of the gdp by country\")"
   ]
  }
 ],
 "metadata": {
  "kernelspec": {
   "display_name": "lewagon",
   "language": "python",
   "name": "python3"
  },
  "language_info": {
   "codemirror_mode": {
    "name": "ipython",
    "version": 3
   },
   "file_extension": ".py",
   "mimetype": "text/x-python",
   "name": "python",
   "nbconvert_exporter": "python",
   "pygments_lexer": "ipython3",
   "version": "3.10.6"
  }
 },
 "nbformat": 4,
 "nbformat_minor": 2
}
