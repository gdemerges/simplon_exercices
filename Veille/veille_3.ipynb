{
 "cells": [
  {
   "cell_type": "markdown",
   "metadata": {},
   "source": [
    "# PivotTableJS"
   ]
  },
  {
   "cell_type": "code",
   "execution_count": null,
   "metadata": {},
   "outputs": [],
   "source": [
    "import pandas as pd\n",
    "from pivottablejs import pivot_ui"
   ]
  },
  {
   "cell_type": "code",
   "execution_count": null,
   "metadata": {},
   "outputs": [],
   "source": [
    "df = pd.DataFrame({\n",
    "    'A': ['foo', 'foo', 'foo', 'foo', 'foo', 'bar', 'bar', 'bar', 'bar'],\n",
    "    'B': ['one', 'one', 'one', 'two', 'two', 'one', 'one', 'two', 'two'],\n",
    "    'C': ['small', 'large', 'large', 'small', 'small', 'large', 'small', 'small', 'large'],\n",
    "    'D': [1, 2, 2, 3, 3, 4, 5, 6, 7],\n",
    "    'E': [2, 4, 5, 5, 6, 6, 8, 9, 9]\n",
    "})\n",
    "\n",
    "pivot_ui(df)\n"
   ]
  },
  {
   "cell_type": "markdown",
   "metadata": {},
   "source": [
    "# PandasAI"
   ]
  },
  {
   "cell_type": "code",
   "execution_count": null,
   "metadata": {},
   "outputs": [],
   "source": [
    "import os\n",
    "import pandas as pd\n",
    "from pandasai import Agent\n",
    "import json\n",
    "\n",
    "with open('config.json', 'r') as config_file:\n",
    "    config = json.load(config_file)\n",
    "    os.environ[\"PANDASAI_API_KEY\"] = config[\"PANDASAI_API_KEY\"]\n",
    "\n",
    "sales_by_country = pd.DataFrame({\n",
    "    \"country\": [\"United States\", \"United Kingdom\", \"France\", \"Germany\", \"Italy\", \"Spain\", \"Canada\", \"Australia\", \"Japan\", \"China\"],\n",
    "    \"sales\": [5000, 3200, 2900, 4100, 2300, 2100, 2500, 2600, 4500, 7000]\n",
    "})\n",
    "\n",
    "agent = Agent(sales_by_country)\n",
    "agent.chat('fais moi le top 5 des pays par ventes')"
   ]
  },
  {
   "cell_type": "code",
   "execution_count": 8,
   "metadata": {},
   "outputs": [],
   "source": [
    "df = pd.DataFrame({\n",
    "    \"country\": [\n",
    "        \"United States\",\n",
    "        \"United Kingdom\",\n",
    "        \"France\",\n",
    "        \"Germany\",\n",
    "        \"Italy\",\n",
    "        \"Spain\",\n",
    "        \"Canada\",\n",
    "        \"Australia\",\n",
    "        \"Japan\",\n",
    "        \"China\",\n",
    "    ],\n",
    "    \"gdp\": [\n",
    "        19294482071552,\n",
    "        2891615567872,\n",
    "        2411255037952,\n",
    "        3435817336832,\n",
    "        1745433788416,\n",
    "        1181205135360,\n",
    "        1607402389504,\n",
    "        1490967855104,\n",
    "        4380756541440,\n",
    "        14631844184064,\n",
    "    ],\n",
    "    \"happiness_index\": [6.94, 7.16, 6.66, 7.07, 6.38, 6.4, 7.23, 7.22, 5.87, 5.12],\n",
    "})"
   ]
  },
  {
   "cell_type": "code",
   "execution_count": 11,
   "metadata": {},
   "outputs": [],
   "source": [
    "from pandasai import SmartDataframe\n",
    "\n",
    "sdf = SmartDataframe(df)"
   ]
  },
  {
   "cell_type": "code",
   "execution_count": null,
   "metadata": {},
   "outputs": [],
   "source": [
    "sdf.chat(\"What's the sum of the gdp of the 2 unhappiest countries?\")"
   ]
  },
  {
   "cell_type": "code",
   "execution_count": null,
   "metadata": {},
   "outputs": [],
   "source": [
    "sdf.chat(\"Plot a chart of the gdp by country\")"
   ]
  }
 ],
 "metadata": {
  "kernelspec": {
   "display_name": "lewagon",
   "language": "python",
   "name": "python3"
  },
  "language_info": {
   "codemirror_mode": {
    "name": "ipython",
    "version": 3
   },
   "file_extension": ".py",
   "mimetype": "text/x-python",
   "name": "python",
   "nbconvert_exporter": "python",
   "pygments_lexer": "ipython3",
   "version": "3.10.6"
  }
 },
 "nbformat": 4,
 "nbformat_minor": 2
}
