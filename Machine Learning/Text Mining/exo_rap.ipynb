{
 "cells": [
  {
   "cell_type": "code",
   "execution_count": 8,
   "metadata": {},
   "outputs": [],
   "source": [
    "import pandas as pd\n",
    "import nltk\n",
    "from nltk.corpus import stopwords\n",
    "from nltk.stem import WordNetLemmatizer, PorterStemmer\n",
    "from collections import Counter\n",
    "from wordcloud import WordCloud\n",
    "import matplotlib.pyplot as plt\n",
    "import seaborn as sns"
   ]
  },
  {
   "cell_type": "code",
   "execution_count": null,
   "metadata": {},
   "outputs": [],
   "source": [
    "nltk.download('punkt')\n",
    "nltk.download('stopwords')\n",
    "nltk.download('wordnet')"
   ]
  },
  {
   "cell_type": "code",
   "execution_count": 3,
   "metadata": {},
   "outputs": [],
   "source": [
    "file_path = 'RapLyrics-Scraper-master/lyrics_US/Eminem_lyrics.txt'\n",
    "with open(file_path, 'r', encoding='utf-8') as file:\n",
    "    lyrics = file.read()\n",
    "\n",
    "lines = lyrics.split('\\n')"
   ]
  },
  {
   "cell_type": "code",
   "execution_count": 4,
   "metadata": {},
   "outputs": [],
   "source": [
    "stop_words = set(stopwords.words('english'))\n",
    "lemmatizer = WordNetLemmatizer()\n",
    "stemmer = PorterStemmer()\n",
    "\n",
    "# Fonction de prétraitement du texte\n",
    "def preprocess_text(text):\n",
    "    tokens = nltk.word_tokenize(text.lower())\n",
    "    tokens = [token for token in tokens if token.isalpha() and token not in stop_words]\n",
    "    lemmas = [lemmatizer.lemmatize(token) for token in tokens]\n",
    "    stems = [stemmer.stem(token) for token in tokens]\n",
    "    return stems\n",
    "\n",
    "cleaned_lines = [preprocess_text(line) for line in lines]"
   ]
  },
  {
   "cell_type": "code",
   "execution_count": null,
   "metadata": {},
   "outputs": [],
   "source": [
    "word_counts = Counter()\n",
    "\n",
    "for line in cleaned_lines:\n",
    "    word_counts.update(line)\n",
    "\n",
    "print(\"Mots les plus fréquents dans les paroles :\")\n",
    "print(word_counts.most_common(50))"
   ]
  },
  {
   "cell_type": "code",
   "execution_count": null,
   "metadata": {},
   "outputs": [],
   "source": [
    "# Convertir les listes de tokens en texte\n",
    "text = ' '.join([' '.join(line) for line in cleaned_lines])\n",
    "\n",
    "# Fonction pour afficher le nuage de mots\n",
    "def plot_word_cloud(text, title):\n",
    "    wc = WordCloud(width=600, height=600, background_color='white', max_words=200, stopwords=stop_words, max_font_size=90, collocations=False, random_state=42)\n",
    "    wc.generate(text)\n",
    "\n",
    "    plt.figure(figsize=(10, 7))\n",
    "    plt.imshow(wc, interpolation='bilinear')\n",
    "    plt.axis('off')\n",
    "    plt.title(title, fontsize=10, pad=10)\n",
    "    plt.show()\n",
    "\n",
    "plot_word_cloud(text, 'Nuage de mots des paroles d\\'Eminem')"
   ]
  },
  {
   "cell_type": "code",
   "execution_count": null,
   "metadata": {},
   "outputs": [],
   "source": [
    "word_freq_df = pd.DataFrame(word_counts.most_common(20), columns=['Word', 'Frequency'])\n",
    "\n",
    "plt.figure(figsize=(12, 8))\n",
    "sns.barplot(x='Frequency', y='Word', data=word_freq_df)\n",
    "plt.title('20 mots les plus fréquents')\n",
    "plt.show()"
   ]
  },
  {
   "cell_type": "code",
   "execution_count": null,
   "metadata": {},
   "outputs": [],
   "source": [
    "# Calculer la longueur des phrases\n",
    "line_lengths = [len(line.split()) for line in lines]\n",
    "\n",
    "plt.figure(figsize=(12, 8))\n",
    "sns.histplot(line_lengths, kde=True)\n",
    "plt.title('Distribution de la longueur des phrases')\n",
    "plt.xlabel('Longueur des phrases')\n",
    "plt.ylabel('Fréquence')\n",
    "plt.show()"
   ]
  },
  {
   "cell_type": "code",
   "execution_count": null,
   "metadata": {},
   "outputs": [],
   "source": [
    "file_path = '/mnt/data/Eminem_lyrics.txt'\n",
    "process_file(file_path)"
   ]
  }
 ],
 "metadata": {
  "kernelspec": {
   "display_name": "lewagon",
   "language": "python",
   "name": "python3"
  },
  "language_info": {
   "codemirror_mode": {
    "name": "ipython",
    "version": 3
   },
   "file_extension": ".py",
   "mimetype": "text/x-python",
   "name": "python",
   "nbconvert_exporter": "python",
   "pygments_lexer": "ipython3",
   "version": "3.10.6"
  }
 },
 "nbformat": 4,
 "nbformat_minor": 2
}
