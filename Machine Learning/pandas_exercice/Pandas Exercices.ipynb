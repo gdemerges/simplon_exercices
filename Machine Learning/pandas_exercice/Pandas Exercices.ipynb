{
 "cells": [
  {
   "cell_type": "markdown",
   "id": "8673c669",
   "metadata": {},
   "source": [
    "# Ecommerce Purchases Exercise\n",
    "\n",
    "In this Exercise you will be given some Fake Data about some purchases done through Amazon! Just go ahead and follow the directions and try your best to answer the questions and complete the tasks. Feel free to reference the solutions. Most of the tasks can be solved in different ways. For the most part, the questions get progressively harder.\n",
    "\n",
    "Please excuse anything that doesn't make \"Real-World\" sense in the dataframe, all the data is fake and made-up.\n",
    "\n",
    "Also note that all of these questions can be answered with one line of code."
   ]
  },
  {
   "cell_type": "code",
   "execution_count": null,
   "id": "1ccbb172",
   "metadata": {},
   "outputs": [],
   "source": [
    "import pandas as pd"
   ]
  },
  {
   "cell_type": "code",
   "execution_count": null,
   "id": "8f6d0150",
   "metadata": {},
   "outputs": [],
   "source": [
    "ecom = pd.read_csv('Ecommerce_Purchases.csv')"
   ]
  },
  {
   "cell_type": "markdown",
   "id": "799ee29e",
   "metadata": {},
   "source": [
    "** Check the head of the DataFrame.**"
   ]
  },
  {
   "cell_type": "code",
   "execution_count": null,
   "id": "08c6282f",
   "metadata": {},
   "outputs": [],
   "source": [
    "ecom.head()"
   ]
  },
  {
   "cell_type": "markdown",
   "id": "58364da6",
   "metadata": {},
   "source": [
    "** How many rows and columns are there? **"
   ]
  },
  {
   "cell_type": "code",
   "execution_count": null,
   "id": "59d1de13",
   "metadata": {},
   "outputs": [],
   "source": [
    "ecom.info()"
   ]
  },
  {
   "cell_type": "markdown",
   "id": "45167a30",
   "metadata": {},
   "source": [
    "** What is the average Purchase Price? **"
   ]
  },
  {
   "cell_type": "code",
   "execution_count": null,
   "id": "ca784a1d",
   "metadata": {},
   "outputs": [],
   "source": [
    "ecom['Purchase Price'].mean()"
   ]
  },
  {
   "cell_type": "markdown",
   "id": "d5eff897",
   "metadata": {},
   "source": [
    "** What were the highest and lowest purchase prices? **"
   ]
  },
  {
   "cell_type": "code",
   "execution_count": null,
   "id": "7905a2c2",
   "metadata": {},
   "outputs": [],
   "source": [
    "ecom['Purchase Price'].max()"
   ]
  },
  {
   "cell_type": "code",
   "execution_count": null,
   "id": "b2a9ae83",
   "metadata": {},
   "outputs": [],
   "source": [
    "ecom['Purchase Price'].min()"
   ]
  },
  {
   "cell_type": "markdown",
   "id": "0cf58981",
   "metadata": {},
   "source": [
    "** How many people have English 'en' as their Language of choice on the website? **"
   ]
  },
  {
   "cell_type": "code",
   "execution_count": null,
   "id": "18e5a182",
   "metadata": {},
   "outputs": [],
   "source": [
    "ecom[ecom['Language'] == \"en\"]\n"
   ]
  },
  {
   "cell_type": "markdown",
   "id": "79297689",
   "metadata": {},
   "source": [
    "** How many people have the job title of \"Lawyer\" ? **"
   ]
  },
  {
   "cell_type": "code",
   "execution_count": null,
   "id": "b977f768",
   "metadata": {},
   "outputs": [],
   "source": [
    "number_of_lawyers = ecom[ecom['Job'] == 'Lawyer']['Job'].count()\n",
    "number_of_lawyers"
   ]
  },
  {
   "cell_type": "markdown",
   "id": "cd21ac40",
   "metadata": {},
   "source": [
    "** How many people made the purchase during the AM and how many people made the purchase during PM ? **\n",
    "\n",
    "**(Hint: Check out [value_counts()](http://pandas.pydata.org/pandas-docs/stable/generated/pandas.Series.value_counts.html) ) **"
   ]
  },
  {
   "cell_type": "code",
   "execution_count": null,
   "id": "66eb1f27",
   "metadata": {},
   "outputs": [],
   "source": [
    "number_people = ecom[ecom['AM or PM'] == 'PM']['AM or PM'].count()\n",
    "number_people"
   ]
  },
  {
   "cell_type": "markdown",
   "id": "09ecfd7b",
   "metadata": {},
   "source": [
    "** What are the 5 most common Job Titles? **"
   ]
  },
  {
   "cell_type": "code",
   "execution_count": null,
   "id": "c5267626",
   "metadata": {},
   "outputs": [],
   "source": [
    "top_5_jobs = ecom['Job'].value_counts().head(5)\n",
    "top_5_jobs"
   ]
  },
  {
   "cell_type": "markdown",
   "id": "f02d5ae9",
   "metadata": {},
   "source": [
    "** Someone made a purchase that came from Lot: \"90 WT\" , what was the Purchase Price for this transaction? **"
   ]
  },
  {
   "cell_type": "code",
   "execution_count": null,
   "id": "b0b9f35d",
   "metadata": {},
   "outputs": [],
   "source": [
    "transaction = ecom[ecom['Lot'] == '90 WT']\n",
    "purchase_price = transaction['Purchase Price'].iloc[0]\n",
    "purchase_price"
   ]
  },
  {
   "cell_type": "markdown",
   "id": "94ec74aa",
   "metadata": {},
   "source": [
    "** What is the email of the person with the following Credit Card Number: 4926535242672853 **"
   ]
  },
  {
   "cell_type": "code",
   "execution_count": null,
   "id": "17e0e79d",
   "metadata": {},
   "outputs": [],
   "source": [
    "email = ecom[ecom['Credit Card'] == 4926535242672853]['Email'].iloc[0]\n",
    "email"
   ]
  },
  {
   "cell_type": "markdown",
   "id": "96d27a41",
   "metadata": {},
   "source": [
    "** How many people have American Express as their Credit Card Provider *and* made a purchase above $95 ?**"
   ]
  },
  {
   "cell_type": "code",
   "execution_count": null,
   "id": "c55aed34",
   "metadata": {},
   "outputs": [],
   "source": [
    "american_express = ecom[(ecom['CC Provider'] == 'American Express') & (ecom['Purchase Price'] > 95)]\n",
    "count_american_express = american_express['CC Provider'].count()\n",
    "count_american_express"
   ]
  },
  {
   "cell_type": "markdown",
   "id": "1be503ca",
   "metadata": {},
   "source": [
    "** Hard: How many people have a credit card that expires in 2025? **"
   ]
  },
  {
   "cell_type": "code",
   "execution_count": null,
   "id": "b2f4e606",
   "metadata": {},
   "outputs": [],
   "source": [
    "twenty_five = ecom[ecom['CC Exp Date'].str.endswith('25')]\n",
    "result = twenty_five['CC Exp Date'].count()\n",
    "result"
   ]
  },
  {
   "cell_type": "markdown",
   "id": "163931d2",
   "metadata": {},
   "source": [
    "** Hard: What are the top 5 most popular email providers/hosts (e.g. gmail.com, yahoo.com, etc...) **"
   ]
  },
  {
   "cell_type": "code",
   "execution_count": null,
   "id": "cd4fb111",
   "metadata": {},
   "outputs": [],
   "source": [
    "ecom['email_provider'] = ecom['Email'].str.split('@').str[1]\n",
    "top_5_mail = ecom['email_provider'].value_counts().head(5)\n",
    "top_5_mail"
   ]
  },
  {
   "cell_type": "markdown",
   "id": "3bf41f33",
   "metadata": {},
   "source": [
    "# Great Job!"
   ]
  }
 ],
 "metadata": {
  "kernelspec": {
   "display_name": "Python 3 (ipykernel)",
   "language": "python",
   "name": "python3"
  },
  "language_info": {
   "codemirror_mode": {
    "name": "ipython",
    "version": 3
   },
   "file_extension": ".py",
   "mimetype": "text/x-python",
   "name": "python",
   "nbconvert_exporter": "python",
   "pygments_lexer": "ipython3",
   "version": "3.10.6"
  },
  "toc": {
   "base_numbering": 1,
   "nav_menu": {},
   "number_sections": true,
   "sideBar": true,
   "skip_h1_title": false,
   "title_cell": "Table of Contents",
   "title_sidebar": "Contents",
   "toc_cell": false,
   "toc_position": {},
   "toc_section_display": true,
   "toc_window_display": false
  }
 },
 "nbformat": 4,
 "nbformat_minor": 5
}
