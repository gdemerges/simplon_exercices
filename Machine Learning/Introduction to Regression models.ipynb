{
 "cells": [
  {
   "cell_type": "markdown",
   "id": "piano-decade",
   "metadata": {},
   "source": [
    "# Introduction to regression models"
   ]
  },
  {
   "cell_type": "markdown",
   "id": "removable-combine",
   "metadata": {},
   "source": [
    "Import relevant libraries"
   ]
  },
  {
   "cell_type": "code",
   "execution_count": null,
   "id": "convinced-helping",
   "metadata": {},
   "outputs": [],
   "source": [
    "import numpy as np\n",
    "import pandas as pd\n",
    "import matplotlib.pyplot as plt\n",
    "import seaborn as sns\n",
    "from sklearn.linear_model import LinearRegression\n",
    "from sklearn.metrics import mean_squared_error\n",
    "from sklearn.model_selection import train_test_split\n",
    "from sklearn.metrics import r2_score\n"
   ]
  },
  {
   "cell_type": "markdown",
   "id": "private-decrease",
   "metadata": {},
   "source": [
    "## Load data"
   ]
  },
  {
   "cell_type": "code",
   "execution_count": null,
   "id": "aware-mason",
   "metadata": {},
   "outputs": [],
   "source": [
    "wine_df = pd.read_csv('https://archive.ics.uci.edu/ml/machine-learning-databases/wine-quality/winequality-red.csv', delimiter=';')"
   ]
  },
  {
   "cell_type": "code",
   "execution_count": null,
   "id": "horizontal-quilt",
   "metadata": {},
   "outputs": [],
   "source": [
    "wine_df.head()"
   ]
  },
  {
   "cell_type": "markdown",
   "id": "lovely-sense",
   "metadata": {},
   "source": [
    "## Exploratory data analysis"
   ]
  },
  {
   "cell_type": "markdown",
   "id": "silent-filling",
   "metadata": {},
   "source": [
    "Explore the dataset. Visualize the data and try to understand what is the number of observations, where are the features and which is the target."
   ]
  },
  {
   "cell_type": "code",
   "execution_count": null,
   "id": "formal-grass",
   "metadata": {},
   "outputs": [],
   "source": [
    "wine_df.info(), wine_df.describe()"
   ]
  },
  {
   "cell_type": "markdown",
   "id": "later-disabled",
   "metadata": {},
   "source": [
    "## Create your own linear model"
   ]
  },
  {
   "cell_type": "markdown",
   "id": "bizarre-generic",
   "metadata": {},
   "source": [
    "Get 100 samples with random state (seed) = 1"
   ]
  },
  {
   "cell_type": "code",
   "execution_count": null,
   "id": "vanilla-emperor",
   "metadata": {},
   "outputs": [],
   "source": [
    "sampled_data = wine_df.sample(n=100, random_state=1) #tire aléatoirement 100 données / 1 pour que les résultats soient reproductibles\n",
    "sampled_data_df = pd.DataFrame(sampled_data)\n",
    "sampled_data_df.head(), sampled_data_df.shape"
   ]
  },
  {
   "cell_type": "markdown",
   "id": "level-remove",
   "metadata": {},
   "source": [
    "Plot pH in function of fixed acidity"
   ]
  },
  {
   "cell_type": "code",
   "execution_count": null,
   "id": "anonymous-arlington",
   "metadata": {},
   "outputs": [],
   "source": [
    "plt.figure(figsize=(8, 4))\n",
    "sns.scatterplot(data=sampled_data_df, x='fixed acidity', y='pH')\n",
    "plt.title('pH in function of fixed acidity')\n",
    "plt.xlabel('Fixed acidity')\n",
    "plt.ylabel('pH')\n",
    "plt.show()"
   ]
  },
  {
   "cell_type": "markdown",
   "id": "optical-kelly",
   "metadata": {},
   "source": [
    "What can you say about pH and fixed acidity? are they correlated ? "
   ]
  },
  {
   "cell_type": "markdown",
   "id": "15ea2a4f",
   "metadata": {},
   "source": [
    "Plus l'acidité fixe augmente et plus le pH diminue, on voit donc une corrélation."
   ]
  },
  {
   "cell_type": "markdown",
   "id": "worldwide-second",
   "metadata": {},
   "source": [
    "Try to find a linear model by hand. plot it with the sample set\n",
    "\n",
    "Hint: define an intercept and a slope. Then, plot it graphically\n",
    "\n",
    "y = a * x + b, where a is slope and b is intercept"
   ]
  },
  {
   "cell_type": "code",
   "execution_count": null,
   "id": "charming-perspective",
   "metadata": {},
   "outputs": [],
   "source": [
    "# Define intercept and slope\n",
    "intercept = 4\n",
    "slope = -0.05\n",
    "\n",
    "sampled_data_df['predicted_pH'] = slope * sampled_data_df['fixed acidity'] + intercept\n",
    "\n",
    "plt.figure(figsize=(10, 6))\n",
    "sns.scatterplot(data=sampled_data_df, x='fixed acidity', y='pH', label='Actual pH')\n",
    "plt.plot(sampled_data_df['fixed acidity'], sampled_data_df['predicted_pH'], color='red', label='Predicted pH')\n",
    "plt.title('pH in function of fixed acidity')\n",
    "plt.xlabel('Fixed Acidity')\n",
    "plt.ylabel('pH')\n",
    "plt.legend()\n",
    "plt.grid(True)\n",
    "plt.show()"
   ]
  },
  {
   "cell_type": "markdown",
   "id": "entire-minneapolis",
   "metadata": {},
   "source": [
    "what is the best linear model you can find ? try to find the optimal intercept and slope by your own"
   ]
  },
  {
   "cell_type": "markdown",
   "id": "matched-blink",
   "metadata": {},
   "source": [
    "Hint: create your own algorithm to find the best intercept and slope\n",
    "\n",
    "Help: if you lack of inspiration, you can try to implement the following algorithm:\n",
    "\n",
    "1) choose a random $b_1$ and fix it. Then calculate the best $b-0$ that minimize the error of the prediction\n",
    "- define X (fixed acidity) and y (pH)\n",
    "- define a $b_1$ fixed\n",
    "- define a range of $b_0$ to test\n",
    "- define a function predict(x,b0,b1) that returns the predictions (y_pred)\n",
    "- define a function calculate_error(y, y_pred) that estimate the sum of squared errors $e = \\Sigma_i^{100}|y_i - y_{pred_i}|^2$\n",
    "- for each $b_0$, find the $b_0 min$ that minimize $e$\n",
    "\n",
    "2) fix $b_0$ with the $b_0 min$ you find before. Then, calculate the best $b_1 min$ that minimizes the error by following the same steps as before\n",
    "\n",
    "3) fix $b_1$ with the new $b_1 min$ you found. Then, calculate a new $b_0 min$ that minimizes the error by following the same steps\n",
    "\n",
    "4) reiterate on 2"
   ]
  },
  {
   "cell_type": "code",
   "execution_count": null,
   "id": "hungarian-canberra",
   "metadata": {},
   "outputs": [],
   "source": [
    "X = sampled_data_df['fixed acidity']\n",
    "y = sampled_data_df['pH']\n",
    "\n",
    "def predict(x, b0, b1):\n",
    "    return b1 * x + b0\n",
    "\n",
    "def calculate_error(y, y_pred):\n",
    "    return np.sum((y - y_pred) ** 2)\n",
    "\n",
    "b0 = 4.0\n",
    "b1 = -0.05\n",
    "tolerance = 1e-6\n",
    "max_iterations = 100\n",
    "prev_error = float('inf')\n",
    "\n",
    "for _ in range(max_iterations):\n",
    "    b0_range = np.linspace(b0 - 0.5, b0 + 0.5, 100) # Crée un tableau de 100 valeurs allant de 3.5 à 4.5\n",
    "    errors = [calculate_error(y, predict(X, i, b1)) for i in b0_range]\n",
    "    b0 = b0_range[np.argmin(errors)] # trouve la valeur minimale grâce à l'indice de la valeur minimale dans le tableau errors\n",
    "    current_error = np.min(errors) # retourne la plus petite valeur avec les différentes valeurs de b0 testées\n",
    "\n",
    "    b1_range = np.linspace(b1 - 0.05, b1 + 0.05, 100)\n",
    "    errors = [calculate_error(y, predict(X, b0, j)) for j in b1_range]\n",
    "    b1 = b1_range[np.argmin(errors)]\n",
    "    current_error = np.min(errors)\n",
    "\n",
    "    if abs(prev_error - current_error) < tolerance:\n",
    "        break\n",
    "    prev_error = current_error\n",
    "\n",
    "print(\"Optimal b0:\", b0)\n",
    "print(\"Optimal b1:\", b1)\n",
    "print(\"Minimum error:\", current_error)"
   ]
  },
  {
   "cell_type": "markdown",
   "id": "maritime-engagement",
   "metadata": {},
   "source": [
    "Compare to seaborn regplot"
   ]
  },
  {
   "cell_type": "code",
   "execution_count": null,
   "id": "unique-aaron",
   "metadata": {},
   "outputs": [],
   "source": [
    "sns.regplot(y='pH', x='fixed acidity', data=sampled_data_df)"
   ]
  },
  {
   "cell_type": "code",
   "execution_count": null,
   "id": "isolated-jones",
   "metadata": {},
   "outputs": [],
   "source": [
    "# plot your linear model with regplot and compare\n",
    "sns.regplot(x=X, y=y)\n",
    "plt.show()"
   ]
  },
  {
   "cell_type": "markdown",
   "id": "indoor-balloon",
   "metadata": {},
   "source": [
    "How far is your linear model from seaborn model?"
   ]
  },
  {
   "cell_type": "code",
   "execution_count": null,
   "id": "alive-christianity",
   "metadata": {},
   "outputs": [],
   "source": [
    "X = sampled_data_df['fixed acidity']\n",
    "y = sampled_data_df['pH']\n",
    "\n",
    "slope, intercept = np.polyfit(X, y, 1)\n",
    "print(\"Seaborn model slope:\", slope)\n",
    "print(\"Seaborn model intercept:\", intercept)"
   ]
  },
  {
   "cell_type": "code",
   "execution_count": null,
   "id": "5276ce10",
   "metadata": {},
   "outputs": [],
   "source": [
    "slope_model = b1\n",
    "intercept_model = b0\n",
    "\n",
    "print(\"Difference in slopes:\", abs(slope - slope_model))\n",
    "print(\"Difference in intercepts:\", abs(intercept - intercept_model))"
   ]
  },
  {
   "cell_type": "markdown",
   "id": "behind-shuttle",
   "metadata": {},
   "source": [
    "How do you evaluate the performance of your linear models at each iteration ?"
   ]
  },
  {
   "cell_type": "code",
   "execution_count": null,
   "id": "educated-hotel",
   "metadata": {},
   "outputs": [],
   "source": [
    "# On optimise la valeur prédite grâce à l'erreur"
   ]
  },
  {
   "cell_type": "markdown",
   "id": "knowing-young",
   "metadata": {},
   "source": [
    "Try to create a method where each time you define a slope or intercept, you reduce the error of the model. Then, you iterate to find the best model\n",
    "\n",
    "Hint: choose a fixed intercept, find the slope that reduce the error of the model. Then keep that slope, find the new intercept that reduce the error of the model ..."
   ]
  },
  {
   "cell_type": "markdown",
   "id": "corrected-county",
   "metadata": {},
   "source": [
    "How many iterations did you tried ? what are the best intercept and slope you found? Are you closer to the seaborn linear model ?  "
   ]
  },
  {
   "cell_type": "code",
   "execution_count": null,
   "id": "female-least",
   "metadata": {},
   "outputs": [],
   "source": [
    "# 100 iterations / Optimal intercept: 3.686868686868687 Optimal slope: -0.04797979797979797\n",
    "# Difference in slopes: 0.003621206747893485\n",
    "# Difference in intercepts: 0.030786776898195978"
   ]
  },
  {
   "cell_type": "markdown",
   "id": "confidential-description",
   "metadata": {},
   "source": [
    "According to you ... is this the OLS method ? can you describe with your own words, how it works? how different is from your method ?"
   ]
  },
  {
   "cell_type": "code",
   "execution_count": null,
   "id": "remarkable-indonesian",
   "metadata": {},
   "outputs": [],
   "source": []
  },
  {
   "cell_type": "markdown",
   "id": "arabic-design",
   "metadata": {},
   "source": [
    "Compare with the Linear regression used in scikit learn"
   ]
  },
  {
   "cell_type": "code",
   "execution_count": null,
   "id": "agricultural-stand",
   "metadata": {},
   "outputs": [],
   "source": [
    "# Instanciate the model\n",
    "model = LinearRegression()\n",
    "\n",
    "# Define X and y\n",
    "X = sampled_data_df[['fixed acidity']]\n",
    "y = sampled_data_df['pH']\n",
    "\n",
    "# Train the model on the data\n",
    "model.fit(X, y)\n",
    "\n",
    "# check results\n",
    "# model's slope (a)\n",
    "print(model.coef_)\n",
    "\n",
    "# model's intercept (b)\n",
    "print(model.intercept_)"
   ]
  },
  {
   "cell_type": "markdown",
   "id": "cellular-stretch",
   "metadata": {},
   "source": [
    "Are you close to these values ?"
   ]
  },
  {
   "cell_type": "code",
   "execution_count": null,
   "id": "likely-brooks",
   "metadata": {},
   "outputs": [],
   "source": [
    "# Yes"
   ]
  },
  {
   "cell_type": "markdown",
   "id": "unnecessary-learning",
   "metadata": {},
   "source": [
    "How do you interpret these values? What do they say about the pH and fixed acidity?"
   ]
  },
  {
   "cell_type": "code",
   "execution_count": null,
   "id": "assisted-september",
   "metadata": {},
   "outputs": [],
   "source": [
    "# Plus l'acidité augmente et plus le pH diminue"
   ]
  },
  {
   "cell_type": "markdown",
   "id": "demonstrated-insulin",
   "metadata": {},
   "source": [
    "## inference analysis"
   ]
  },
  {
   "cell_type": "markdown",
   "id": "about-canadian",
   "metadata": {},
   "source": [
    "Get a new sample of 100 with different random state (seed) = 60"
   ]
  },
  {
   "cell_type": "code",
   "execution_count": null,
   "id": "large-functionality",
   "metadata": {},
   "outputs": [],
   "source": [
    "new_sampled_data = wine_df.sample(n=100, random_state=60)\n",
    "new_sampled_data_df = pd.DataFrame(new_sampled_data)\n",
    "new_sampled_data_df.head()"
   ]
  },
  {
   "cell_type": "markdown",
   "id": "combined-smell",
   "metadata": {},
   "source": [
    "Try to plot a regplot with the sckitlearn coefficients, your best coefficient calculated before. Does your best linear model (sklearn) fit with this new sample set ?  Why ?\n",
    "\n",
    "Hint: read about what is overfit?"
   ]
  },
  {
   "cell_type": "code",
   "execution_count": null,
   "id": "cellular-quantum",
   "metadata": {},
   "outputs": [],
   "source": [
    "X_original = sampled_data[['fixed acidity']]\n",
    "y_original = sampled_data['pH']\n",
    "model = LinearRegression()\n",
    "model.fit(X_original, y_original)\n",
    "\n",
    "new_sample = wine_df.sample(n=100, random_state=60)\n",
    "X_new = new_sample[['fixed acidity']]\n",
    "y_new = new_sample['pH']\n",
    "\n",
    "sns.regplot(x=X_new['fixed acidity'], y=y_new, scatter=True, label='Actual Data', color='blue')\n",
    "\n",
    "predicted_y_new = model.predict(X_new)\n",
    "plt.scatter(X_new['fixed acidity'], predicted_y_new, color='red', label='Model Predictions')\n",
    "\n",
    "plt.title('Comparison of model predictions and actual data on new sample data')\n",
    "plt.xlabel('Fixed Acidity')\n",
    "plt.ylabel('pH')\n",
    "plt.legend()\n",
    "plt.show()"
   ]
  },
  {
   "cell_type": "markdown",
   "id": "contained-maintenance",
   "metadata": {},
   "source": [
    "How can you solve the problem ?"
   ]
  },
  {
   "cell_type": "code",
   "execution_count": null,
   "id": "funny-increase",
   "metadata": {},
   "outputs": [],
   "source": [
    "# augmenter la taille de l'ensemble des données"
   ]
  },
  {
   "cell_type": "markdown",
   "id": "frequent-realtor",
   "metadata": {},
   "source": [
    "# Predict wine quality - regression problem"
   ]
  },
  {
   "cell_type": "markdown",
   "id": "negative-exclusion",
   "metadata": {},
   "source": [
    "## Simple Linear regression"
   ]
  },
  {
   "cell_type": "markdown",
   "id": "sophisticated-default",
   "metadata": {},
   "source": [
    "Let's try to create a new linear regression. This time, try to find the best model to predict quality in function of pH\n",
    "\n",
    "Follow the same steps as before: \n",
    "- choose a random sample with fixed seed\n",
    "- use seaborn to see the linear model in this sample\n",
    "- calculate the best linear regression\n",
    "- check if the model fits with a new sample"
   ]
  },
  {
   "cell_type": "code",
   "execution_count": null,
   "id": "removable-details",
   "metadata": {},
   "outputs": [],
   "source": [
    "train_sample = wine_df.sample(n=100, random_state=42)\n",
    "sns.regplot(x='pH', y='quality', data=train_sample, scatter_kws={'alpha':0.5}, line_kws={'color':'red'})\n",
    "plt.title('Lien entre pH et la qualité')\n",
    "plt.xlabel('pH')\n",
    "plt.ylabel('Quality')\n",
    "plt.show()"
   ]
  },
  {
   "cell_type": "code",
   "execution_count": null,
   "id": "aeed4e26",
   "metadata": {},
   "outputs": [],
   "source": [
    "X_train = train_sample[['pH']]\n",
    "y_train = train_sample['quality']\n",
    "\n",
    "model = LinearRegression()\n",
    "model.fit(X_train, y_train)\n",
    "\n",
    "print(\"Coefficient (slope):\", model.coef_[0])\n",
    "print(\"Intercept:\", model.intercept_)"
   ]
  },
  {
   "cell_type": "code",
   "execution_count": null,
   "id": "a63fa5d0",
   "metadata": {},
   "outputs": [],
   "source": [
    "test_sample = wine_df.sample(n=100, random_state=60)\n",
    "X_test = test_sample[['pH']]\n",
    "y_test = test_sample['quality']\n",
    "\n",
    "y_pred = model.predict(X_test)\n",
    "\n",
    "plt.figure(figsize=(10, 5))\n",
    "plt.scatter(X_test['pH'], y_test, alpha=0.5, label='Actual Quality')\n",
    "plt.scatter(X_test['pH'], y_pred, color='red', label='Predicted Quality')\n",
    "plt.title('Modèle testé sur le new sample')\n",
    "plt.xlabel('pH')\n",
    "plt.ylabel('Quality')\n",
    "plt.legend()\n",
    "plt.show()\n",
    "\n",
    "mse = mean_squared_error(y_test, y_pred)\n",
    "print(\"Erreur quadratique moyenne sur test sample\", mse)"
   ]
  },
  {
   "cell_type": "markdown",
   "id": "rapid-keeping",
   "metadata": {},
   "source": [
    "How good is this model performing? What is the error? is it low or high ?"
   ]
  },
  {
   "cell_type": "code",
   "execution_count": null,
   "id": "political-chair",
   "metadata": {},
   "outputs": [],
   "source": [
    "# Modèle correct sans être exceptionnel"
   ]
  },
  {
   "cell_type": "markdown",
   "id": "tender-track",
   "metadata": {},
   "source": [
    "### Using Holdout method "
   ]
  },
  {
   "cell_type": "markdown",
   "id": "dress-extension",
   "metadata": {},
   "source": [
    "Let's use the train split method to divide the dataset in 70% train set and 30% test set. This time we will use another feature. Let's try with fixed acidity this time"
   ]
  },
  {
   "cell_type": "code",
   "execution_count": null,
   "id": "black-principal",
   "metadata": {},
   "outputs": [],
   "source": [
    "# Choose your feature and your target\n",
    "X = test_sample[['fixed acidity']]\n",
    "y = test_sample['quality']\n",
    "\n",
    "# Splitting the data\n",
    "X_train, X_test, y_train, y_test = train_test_split(X, y, test_size=.3, random_state=1)\n",
    "\n",
    "# Choose your model\n",
    "model = LinearRegression()\n",
    "\n",
    "# Fit the model with the train set\n",
    "model.fit(X_train, y_train)\n",
    "\n",
    "# Evaluate the model with the test set\n",
    "model.score(X_test, y_test)"
   ]
  },
  {
   "attachments": {
    "image-3.png": {
     "image/png": "[encoded data removed]"
    }
   },
   "cell_type": "markdown",
   "id": "basic-stomach",
   "metadata": {},
   "source": [
    "Is this score good or bad? What does it means? \n",
    "\n",
    "Try to use regplot to compare with your new model and understand graphically what is happening for the train and test set. you should try two graphics: (one using the X_train,y_train and another one using X_test, y_test)\n",
    "\n",
    "\n",
    "![image-3.png](attachment:image-3.png)"
   ]
  },
  {
   "cell_type": "code",
   "execution_count": null,
   "id": "choice-possibility",
   "metadata": {},
   "outputs": [],
   "source": [
    "# le score est mauvais, car dans le négatif"
   ]
  },
  {
   "cell_type": "code",
   "execution_count": null,
   "id": "cf8aef0c",
   "metadata": {},
   "outputs": [],
   "source": [
    "plt.figure(figsize=(8, 4))\n",
    "sns.regplot(x=X_train['fixed acidity'], y=y_train, scatter_kws={'alpha':0.5}, line_kws={'color':'red'})\n",
    "plt.plot(X_train['fixed acidity'], model.predict(X_train), color='yellow', linewidth=2)\n",
    "plt.title('Régression Linéaire sur l\\'ensemble de train')\n",
    "plt.xlabel('fixed acidity')\n",
    "plt.ylabel('Quality')\n",
    "plt.show()\n",
    "\n",
    "plt.figure(figsize=(8, 4))\n",
    "sns.regplot(x=X_test['fixed acidity'], y=y_test, scatter_kws={'alpha':0.5}, line_kws={'color':'blue'})\n",
    "plt.plot(X_test['fixed acidity'], model.predict(X_test), color='yellow', linewidth=2)\n",
    "plt.title('Régression Linéaire sur l\\'ensemble de test')\n",
    "plt.xlabel('fixed acidity')\n",
    "plt.ylabel('Quality')\n",
    "plt.show()"
   ]
  },
  {
   "cell_type": "code",
   "execution_count": null,
   "id": "57a5202b",
   "metadata": {},
   "outputs": [],
   "source": [
    "sns.regplot(x='alcohol', y='quality', data=test_sample, ci=True, scatter_kws={'alpha':0.5})\n",
    "\n",
    "plt.xlabel('Alcohol')\n",
    "plt.ylabel('Quality')\n",
    "plt.title('Relationship between Alcohol and Quality')\n",
    "plt.show()"
   ]
  },
  {
   "cell_type": "code",
   "execution_count": null,
   "id": "39481637",
   "metadata": {},
   "outputs": [],
   "source": [
    "sns.regplot(x='volatile acidity', y='quality', data=test_sample, ci=True, scatter_kws={'alpha':0.5})\n",
    "\n",
    "plt.xlabel('volatile acidity')\n",
    "plt.ylabel('Quality')\n",
    "plt.title('Relationship between volatile acidity and Quality')\n",
    "plt.show()"
   ]
  },
  {
   "cell_type": "markdown",
   "id": "basic-hollywood",
   "metadata": {},
   "source": [
    "Try another feature. Replace your X with volatile acidity, alcohol ...\n",
    "\n",
    "Which feature increases this value? "
   ]
  },
  {
   "cell_type": "code",
   "execution_count": null,
   "id": "through-alloy",
   "metadata": {},
   "outputs": [],
   "source": [
    "all_features = [col for col in test_sample.columns if col != 'quality']\n",
    "\n",
    "performance = {}\n",
    "\n",
    "for feature in all_features:\n",
    "    X = test_sample[[feature]]\n",
    "    y = test_sample['quality']\n",
    "\n",
    "    X_train, X_test, y_train, y_test = train_test_split(X, y, test_size=0.3, random_state=1)\n",
    "\n",
    "    model = LinearRegression()\n",
    "\n",
    "    model.fit(X_train, y_train)\n",
    "\n",
    "    score = model.score(X_test, y_test)\n",
    "\n",
    "    performance[feature] = score\n",
    "\n",
    "    print(f\"R² score pour {feature} comme prédicteur de qualité: {score:.4f}\")\n",
    "\n",
    "best_feature = max(performance, key=performance.get)\n",
    "print(f\"La caractéristique qui prédit le mieux la qualité est: {best_feature} avec un R² de {performance[best_feature]:.4f}\")"
   ]
  },
  {
   "cell_type": "markdown",
   "id": "extreme-notice",
   "metadata": {},
   "source": [
    "Do you think you can do better ?"
   ]
  },
  {
   "cell_type": "code",
   "execution_count": null,
   "id": "welcome-strength",
   "metadata": {},
   "outputs": [],
   "source": [
    "# yes"
   ]
  },
  {
   "cell_type": "markdown",
   "id": "professional-metadata",
   "metadata": {},
   "source": [
    "## Multi linear regression"
   ]
  },
  {
   "cell_type": "markdown",
   "id": "material-credits",
   "metadata": {},
   "source": [
    "Let's add multiple features in the regression model. Then create a new model and compare your results with Simple regression. Is it better or worst? "
   ]
  },
  {
   "cell_type": "code",
   "execution_count": null,
   "id": "underlying-gallery",
   "metadata": {},
   "outputs": [],
   "source": [
    "X = test_sample[['pH','alcohol', 'fixed acidity', 'density', 'chlorides']]"
   ]
  },
  {
   "cell_type": "code",
   "execution_count": null,
   "id": "formal-miller",
   "metadata": {},
   "outputs": [],
   "source": [
    "y = test_sample['quality']\n",
    "\n",
    "X_train, X_test, y_train, y_test = train_test_split(X, y, test_size=0.3, random_state=1)\n",
    "\n",
    "multiple_model = LinearRegression()\n",
    "\n",
    "multiple_model.fit(X_train, y_train)\n",
    "\n",
    "multiple_score = multiple_model.score(X_test, y_test)\n",
    "\n",
    "print(f\"R² score for multiple regression: {multiple_score:.4f}\")"
   ]
  },
  {
   "cell_type": "code",
   "execution_count": null,
   "id": "93ce0ce5",
   "metadata": {},
   "outputs": [],
   "source": [
    "slope_model = b1\n",
    "intercept_model = b0\n",
    "\n",
    "print(\"Difference in slopes:\", abs(slope - slope_model))\n",
    "print(\"Difference in intercepts:\", abs(intercept - intercept_model))"
   ]
  },
  {
   "cell_type": "markdown",
   "id": "rocky-filter",
   "metadata": {},
   "source": [
    "Try with all the features (all without column quality of course). \n",
    "\n",
    "Create a new model and compare with the last one. Is it better? Why? \n",
    "\n"
   ]
  },
  {
   "cell_type": "code",
   "execution_count": null,
   "id": "floral-fellowship",
   "metadata": {},
   "outputs": [],
   "source": [
    "all_features = [col for col in test_sample.columns if col != 'quality']\n",
    "X = test_sample[all_features]\n",
    "\n",
    "y = test_sample['quality']\n",
    "\n",
    "X_train, X_test, y_train, y_test = train_test_split(X, y, test_size=0.3, random_state=1)\n",
    "\n",
    "all_features_model = LinearRegression()\n",
    "\n",
    "all_features_model.fit(X_train, y_train)\n",
    "\n",
    "all_features_score = all_features_model.score(X_test, y_test)\n",
    "\n",
    "print(f\"R² score for regression with all features: {all_features_score:.4f}\")"
   ]
  },
  {
   "cell_type": "markdown",
   "id": "accessible-digit",
   "metadata": {},
   "source": [
    "If you add the column quality in the variable X, what would happen ? \n",
    "\n",
    "Hint: read about **data leakage**"
   ]
  },
  {
   "cell_type": "code",
   "execution_count": null,
   "id": "appropriate-extraction",
   "metadata": {},
   "outputs": [],
   "source": [
    "# une mauvaise prédiction, car artificiellement parfait"
   ]
  },
  {
   "cell_type": "markdown",
   "id": "attended-austin",
   "metadata": {},
   "source": [
    "Do you think that there are features that are not helping to increase the performance? Which ones do you suspect? "
   ]
  },
  {
   "cell_type": "code",
   "execution_count": null,
   "id": "postal-listing",
   "metadata": {},
   "outputs": [],
   "source": [
    "correlation_matrix = test_sample.corr()\n",
    "\n",
    "correlations_with_quality = correlation_matrix['quality'].sort_values(ascending=False)\n",
    "\n",
    "print(correlations_with_quality)"
   ]
  },
  {
   "cell_type": "markdown",
   "id": "existing-democrat",
   "metadata": {},
   "source": [
    "Do you know a method to identify them? "
   ]
  },
  {
   "cell_type": "code",
   "execution_count": null,
   "id": "early-mozambique",
   "metadata": {},
   "outputs": [],
   "source": []
  },
  {
   "cell_type": "code",
   "execution_count": null,
   "id": "6048a7c2",
   "metadata": {},
   "outputs": [],
   "source": [
    "from sklearn.ensemble import RandomForestRegressor\n",
    "\n",
    "rf = RandomForestRegressor(n_estimators=100, random_state=1)\n",
    "rf.fit(X_train, y_train)\n",
    "\n",
    "importances = rf.feature_importances_\n",
    "sorted_indices = np.argsort(importances)[::-1]\n",
    "\n",
    "for idx in sorted_indices:\n",
    "    print(f\"{X_train.columns[idx]}: {importances[idx]}\")"
   ]
  },
  {
   "cell_type": "code",
   "execution_count": null,
   "id": "d4033a77",
   "metadata": {},
   "outputs": [],
   "source": [
    "from sklearn.feature_selection import RFE\n",
    "\n",
    "rfe = RFE(estimator=LinearRegression(), n_features_to_select=5)\n",
    "rfe.fit(X_train, y_train)\n",
    "\n",
    "for i in range(X_train.shape[1]):\n",
    "    print(f\"{X_train.columns[i]} - Ranked: {rfe.ranking_[i]}\")\n"
   ]
  },
  {
   "cell_type": "markdown",
   "id": "innocent-script",
   "metadata": {},
   "source": [
    "How can you find the best combination of features to increase the performance of the model?"
   ]
  },
  {
   "cell_type": "code",
   "execution_count": null,
   "id": "agreed-concept",
   "metadata": {},
   "outputs": [],
   "source": [
    "corr_matrix = sampled_data_df.corr()\n",
    "\n",
    "# Plot heatmap\n",
    "plt.figure(figsize=(12, 10))\n",
    "sns.heatmap(corr_matrix, annot=True, fmt=\".2f\")\n",
    "plt.show()"
   ]
  },
  {
   "cell_type": "code",
   "execution_count": null,
   "id": "25195c42",
   "metadata": {},
   "outputs": [],
   "source": [
    "from sklearn.feature_selection import RFECV\n",
    "\n",
    "estimator = LinearRegression()\n",
    "selector = RFECV(estimator, step=1, cv=5)\n",
    "selector = selector.fit(X_train, y_train)\n",
    "print(\"Optimal number of features : %d\" % selector.n_features_)"
   ]
  },
  {
   "cell_type": "code",
   "execution_count": null,
   "id": "f9bfbe4e",
   "metadata": {},
   "outputs": [],
   "source": [
    "from sklearn.linear_model import LassoCV\n",
    "\n",
    "lasso = LassoCV(cv=5).fit(X_train, y_train)\n",
    "importance = np.abs(lasso.coef_)\n",
    "print(\"Selected features: \", np.array(X_train.columns)[importance > 0])\n"
   ]
  },
  {
   "cell_type": "code",
   "execution_count": null,
   "id": "a1e85251",
   "metadata": {},
   "outputs": [],
   "source": [
    "from sklearn.ensemble import RandomForestClassifier\n",
    "\n",
    "model = RandomForestClassifier()\n",
    "model.fit(X_train, y_train)\n",
    "feature_importances = model.feature_importances_\n",
    "features = sorted(zip(X_train.columns, feature_importances), key=lambda x: x[1], reverse=True)\n",
    "for feature, importance in features:\n",
    "    print(f\"{feature}: {importance}\")\n"
   ]
  },
  {
   "cell_type": "markdown",
   "id": "applicable-prefix",
   "metadata": {},
   "source": [
    "# Predict wine quality - classification problem"
   ]
  },
  {
   "cell_type": "markdown",
   "id": "boring-sudan",
   "metadata": {},
   "source": [
    "## convert quality column in 2 classes"
   ]
  },
  {
   "cell_type": "markdown",
   "id": "intimate-satin",
   "metadata": {},
   "source": [
    "Create a classification version (good or bad) of target variable (quality). To do so, let's consider that the wine with quality equal of higher than 7 is good quality and the rest bad quality. \n",
    "\n",
    "You can call the new column goodquality"
   ]
  },
  {
   "cell_type": "code",
   "execution_count": null,
   "metadata": {},
   "outputs": [],
   "source": [
    "test_sample = wine_df.sample(n=1000, random_state=60)"
   ]
  },
  {
   "cell_type": "code",
   "execution_count": null,
   "id": "tutorial-crime",
   "metadata": {},
   "outputs": [],
   "source": [
    "import pandas as pd\n",
    "\n",
    "test_sample['goodquality'] = (test_sample['quality'] >= 7).astype(int)\n",
    "\n",
    "print(test_sample.head())\n"
   ]
  },
  {
   "cell_type": "markdown",
   "id": "curious-elevation",
   "metadata": {},
   "source": [
    "How many samples are considered as good and how many are bad? Is this balanced"
   ]
  },
  {
   "cell_type": "code",
   "execution_count": null,
   "id": "higher-small",
   "metadata": {},
   "outputs": [],
   "source": [
    "print(test_sample['goodquality'].value_counts())"
   ]
  },
  {
   "cell_type": "markdown",
   "id": "smoking-basis",
   "metadata": {},
   "source": [
    "## Simple Logistic regression"
   ]
  },
  {
   "cell_type": "markdown",
   "id": "sporting-insulation",
   "metadata": {},
   "source": [
    "Try to create a first logistic regression model from a sample"
   ]
  },
  {
   "cell_type": "code",
   "execution_count": null,
   "id": "electric-above",
   "metadata": {},
   "outputs": [],
   "source": [
    "from sklearn.model_selection import train_test_split\n",
    "from sklearn.linear_model import LogisticRegression\n",
    "from sklearn.preprocessing import StandardScaler\n",
    "\n",
    "X = test_sample[['alcohol']]\n",
    "y = test_sample['goodquality']\n",
    "\n",
    "X_train, X_test, y_train, y_test = train_test_split(X, y, test_size=0.2, random_state=60)\n",
    "\n",
    "#scaler = StandardScaler()\n",
    "#X_train_scaled = scaler.fit_transform(X_train)\n",
    "#X_test_scaled = scaler.transform(X_test)\n",
    "\n",
    "model = LogisticRegression()\n",
    "\n",
    "model.fit(X_train, y_train)"
   ]
  },
  {
   "cell_type": "markdown",
   "id": "distinct-interaction",
   "metadata": {},
   "source": [
    "In classification, how do you evaluate the performance of the model ?\n",
    "\n",
    "hint: read more about classification_report from scikit learn"
   ]
  },
  {
   "cell_type": "code",
   "execution_count": null,
   "id": "incredible-coverage",
   "metadata": {},
   "outputs": [],
   "source": [
    "from sklearn.metrics import accuracy_score, confusion_matrix, classification_report\n",
    "\n",
    "y_pred = model.predict(X_test)\n",
    "\n",
    "cm = confusion_matrix(y_test, y_pred)\n",
    "print(\"Confusion Matrix:\")\n",
    "print(cm)\n",
    "\n",
    "accuracy = accuracy_score(y_test, y_pred)\n",
    "print(\"Accuracy Score:\", accuracy)\n",
    "\n",
    "print(\"Classification Report:\")\n",
    "print(classification_report(y_test, y_pred))"
   ]
  },
  {
   "cell_type": "markdown",
   "id": "cosmetic-waste",
   "metadata": {},
   "source": [
    "Try different pair of data sets: (pH, goodquality), (fixed acidity, goodquality), (alcohol, goodquality) \n",
    "\n",
    "Which pair performs better?"
   ]
  },
  {
   "cell_type": "code",
   "execution_count": null,
   "id": "187d1bc3",
   "metadata": {},
   "outputs": [],
   "source": [
    "from sklearn.linear_model import LogisticRegression\n",
    "from sklearn.metrics import roc_auc_score\n",
    "from sklearn.model_selection import train_test_split\n",
    "\n",
    "feature_sets = ['pH', 'fixed acidity', 'alcohol']\n",
    "target = 'goodquality'\n",
    "\n",
    "auc_scores = {}\n",
    "\n",
    "for feature in feature_sets:\n",
    "    X = test_sample[[feature]]\n",
    "    y = test_sample[target]\n",
    "\n",
    "    X_train, X_test, y_train, y_test = train_test_split(X, y, test_size=0.3, random_state=42, stratify=y)\n",
    "\n",
    "    model = LogisticRegression()\n",
    "\n",
    "    model.fit(X_train, y_train)\n",
    "\n",
    "    y_pred_probs = model.predict_proba(X_test)[:, 1]\n",
    "\n",
    "    y_pred = model.predict(X_test)\n",
    "\n",
    "    accuracy = accuracy_score(y_test, y_pred)\n",
    "    print(\"Accuracy Score:\", accuracy)\n",
    "\n",
    "    auc = roc_auc_score(y_test, y_pred_probs)\n",
    "    auc_scores[feature] = auc\n",
    "\n",
    "    print(f\"The AUC score for {feature} and goodquality: {auc:.4f}\")\n",
    "\n",
    "best_feature = max(auc_scores, key=auc_scores.get)\n",
    "print(f\"The best performing pair is {best_feature} and goodquality with an AUC of {auc_scores[best_feature]:.4f}.\")\n"
   ]
  },
  {
   "cell_type": "markdown",
   "id": "still-ratio",
   "metadata": {},
   "source": [
    "## Multi logistic regression"
   ]
  },
  {
   "cell_type": "markdown",
   "id": "effective-clarity",
   "metadata": {},
   "source": [
    "Add new features to the model, try to find the best model reducing the error. \n",
    "\n",
    "Use everything you learned so far and good luck :)"
   ]
  },
  {
   "cell_type": "code",
   "execution_count": null,
   "metadata": {},
   "outputs": [],
   "source": [
    "from sklearn.model_selection import train_test_split\n",
    "from sklearn.linear_model import LogisticRegression\n",
    "from sklearn.preprocessing import StandardScaler\n",
    "\n",
    "X = test_sample.drop(['quality', 'goodquality'], axis=1)\n",
    "y = test_sample['goodquality']\n",
    "\n",
    "X_train, X_test, y_train, y_test = train_test_split(X, y, test_size=0.2, random_state=60)\n",
    "\n",
    "#scaler = StandardScaler()\n",
    "#X_train_scaled = scaler.fit_transform(X_train)\n",
    "#X_test_scaled = scaler.transform(X_test)\n",
    "\n",
    "model = LogisticRegression()\n",
    "\n",
    "model.fit(X_train, y_train)"
   ]
  },
  {
   "cell_type": "code",
   "execution_count": null,
   "metadata": {},
   "outputs": [],
   "source": [
    "from sklearn.metrics import accuracy_score, confusion_matrix, classification_report\n",
    "\n",
    "y_pred = model.predict(X_test)\n",
    "\n",
    "cm = confusion_matrix(y_test, y_pred)\n",
    "print(\"Confusion Matrix:\")\n",
    "print(cm)\n",
    "\n",
    "accuracy = accuracy_score(y_test, y_pred)\n",
    "print(\"Accuracy Score:\", accuracy)\n",
    "\n",
    "print(\"Classification Report:\")\n",
    "print(classification_report(y_test, y_pred))"
   ]
  }
 ],
 "metadata": {
  "kernelspec": {
   "display_name": "Python 3 (ipykernel)",
   "language": "python",
   "name": "python3"
  },
  "language_info": {
   "codemirror_mode": {
    "name": "ipython",
    "version": 3
   },
   "file_extension": ".py",
   "mimetype": "text/x-python",
   "name": "python",
   "nbconvert_exporter": "python",
   "pygments_lexer": "ipython3",
   "version": "3.10.6"
  },
  "toc": {
   "base_numbering": 1,
   "nav_menu": {},
   "number_sections": true,
   "sideBar": true,
   "skip_h1_title": false,
   "title_cell": "Table of Contents",
   "title_sidebar": "Contents",
   "toc_cell": false,
   "toc_position": {},
   "toc_section_display": true,
   "toc_window_display": false
  },
  "varInspector": {
   "cols": {
    "lenName": 16,
    "lenType": 16,
    "lenVar": 40
   },
   "kernels_config": {
    "python": {
     "delete_cmd_postfix": "",
     "delete_cmd_prefix": "del ",
     "library": "var_list.py",
     "varRefreshCmd": "print(var_dic_list())"
    },
    "r": {
     "delete_cmd_postfix": ") ",
     "delete_cmd_prefix": "rm(",
     "library": "var_list.r",
     "varRefreshCmd": "cat(var_dic_list()) "
    }
   },
   "types_to_exclude": [
    "module",
    "function",
    "builtin_function_or_method",
    "instance",
    "_Feature"
   ],
   "window_display": false
  }
 },
 "nbformat": 4,
 "nbformat_minor": 5
}
