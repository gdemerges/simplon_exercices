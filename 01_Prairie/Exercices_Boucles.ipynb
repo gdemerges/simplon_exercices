{
  "nbformat": 4,
  "nbformat_minor": 0,
  "metadata": {
    "colab": {
      "provenance": [],
      "include_colab_link": true
    },
    "kernelspec": {
      "name": "python3",
      "display_name": "Python 3"
    },
    "language_info": {
      "name": "python"
    }
  },
  "cells": [
    {
      "cell_type": "markdown",
      "metadata": {
        "id": "view-in-github",
        "colab_type": "text"
      },
      "source": [
        "<a href=\"https://colab.research.google.com/github/gdemerges/simplon_exercices/blob/master/Exercices_Boucles.ipynb\" target=\"_parent\"><img src=\"https://colab.research.google.com/assets/colab-badge.svg\" alt=\"Open In Colab\"/></a>"
      ]
    },
    {
      "cell_type": "markdown",
      "source": [
        "# Exercice 1\n",
        "Écrivez un programme qui affiche une suite de 12 nombres dont chaque terme est égal au triple du terme précédent."
      ],
      "metadata": {
        "id": "z6v9eGU1MQwr"
      }
    },
    {
      "cell_type": "code",
      "source": [
        "nombre = [1]\n",
        "\n",
        "for i in range(1, 12):\n",
        "  nombre.append(nombre[i-1] * 3)\n",
        "\n",
        "nombre"
      ],
      "metadata": {
        "id": "CoIt7DkESe-v",
        "outputId": "22698619-c1f5-488c-8785-8a4f34b68252",
        "colab": {
          "base_uri": "https://localhost:8080/"
        }
      },
      "execution_count": null,
      "outputs": [
        {
          "output_type": "execute_result",
          "data": {
            "text/plain": [
              "[1, 3, 9, 27, 81, 243, 729, 2187, 6561, 19683, 59049, 177147]"
            ]
          },
          "metadata": {},
          "execution_count": 5
        }
      ]
    },
    {
      "cell_type": "markdown",
      "source": [
        "# Exercice 2\n",
        "En utilisant une boucle while, entrez un prix HT (entrez « 0 » pour terminer) et affichez sa valeur TTC (appliquer une TVA de 20%)"
      ],
      "metadata": {
        "id": "rwi1OcJeMRKK"
      }
    },
    {
      "cell_type": "code",
      "source": [
        "tva = 0.20\n",
        "\n",
        "while True:\n",
        "  try:\n",
        "    prix = float(input(\"Veuillez entrer un prix HT : \"))\n",
        "    if prix < 0:\n",
        "      print(\"Le prix doit être positif. Veuillez réessayer.\")\n",
        "    else:\n",
        "      prix_ttc = prix * tva + prix\n",
        "      print(f\"Le prix ttc est de {round(prix_ttc)}\")\n",
        "      break\n",
        "  except ValueError:\n",
        "    print(\"Ce n'est pas un nombre. Veuillez saisir un nombre.\")\n",
        "\n",
        "\n",
        "\n",
        "\n"
      ],
      "metadata": {
        "id": "ZyNsIxO-TXg_",
        "outputId": "ee0a7684-355a-4f36-9397-be62bcb564f5",
        "colab": {
          "base_uri": "https://localhost:8080/"
        }
      },
      "execution_count": null,
      "outputs": [
        {
          "output_type": "stream",
          "name": "stdout",
          "text": [
            "Veuillez entrer un prix HT : 20.4\n",
            "Le prix ttc est de 24\n"
          ]
        }
      ]
    },
    {
      "cell_type": "markdown",
      "source": [
        "# Exercice 3\n",
        "En mathématiques, la suite de Fibonacci est une suite d'entiers dans laquelle chaque terme est la somme des deux termes qui le précèdent. Elle commence généralement par les termes 0 et 1 (parfois 1 et 1) et ses premiers termes sont 0, 1, 1, 2, 3, 5, 8, 13, 21, 34, 55, 89, etc.\n",
        "\n",
        "Écrivez un programme paramétrique qui fournit la série de Fibonacci pour obtenir les valeurs de n termes."
      ],
      "metadata": {
        "id": "eXm6Yad9MRdD"
      }
    },
    {
      "cell_type": "code",
      "source": [
        "nombre = [0, 1]\n",
        "\n",
        "for i in range(1, 12):\n",
        "  next_nombre = (nombre[-1] + nombre[-2])\n",
        "  nombre.append(next_nombre)\n",
        "\n",
        "nombre"
      ],
      "metadata": {
        "id": "gu4QHspuWSxL",
        "outputId": "e743667d-53f8-431e-df8e-fefe44169dfe",
        "colab": {
          "base_uri": "https://localhost:8080/"
        }
      },
      "execution_count": null,
      "outputs": [
        {
          "output_type": "execute_result",
          "data": {
            "text/plain": [
              "[0, 1, 1, 2, 3, 5, 8, 13, 21, 34, 55, 89, 144]"
            ]
          },
          "metadata": {},
          "execution_count": 15
        }
      ]
    },
    {
      "cell_type": "markdown",
      "source": [
        "# Exercice 4\n",
        "\n",
        "L'utilisateur donne un entier supérieur à 1 et le programme affiche, s'il y en a, tous ses diviseurs propres sans répétition ainsi que leur nombre. S'il n'y en a pas, il indique qu'il est premier. Par exemple :\n",
        "Entrez un entier strictement positif : 12\n",
        "Diviseurs propres sans répétition de 12 : 2 3 4 6 (soit 4 diviseurs propres)\n",
        "Entrez un entier strictement positif : 13\n",
        "Diviseurs propres sans répétition de 13 : aucun ! Il est premier"
      ],
      "metadata": {
        "id": "HkopW6h4MR2i"
      }
    },
    {
      "cell_type": "code",
      "source": [
        "def getFactors(n):\n",
        "  factors=[];\n",
        "\n",
        "  for i in range(1, n + 1):\n",
        "      if n % i == 0:\n",
        "          factors.append(i)\n",
        "  return factors\n",
        "\n",
        "factors_of_n = getFactors(13)\n",
        "print(factors_of_n)\n",
        "\n",
        "if len(factors_of_n) == 2:\n",
        "    print('Nombre premier')\n",
        "else:\n",
        "    print('Pas un nombre premier')\n"
      ],
      "metadata": {
        "id": "oXmBNJIzXTnW",
        "outputId": "349ad76f-4c29-4589-b9bc-ee793ca849f3",
        "colab": {
          "base_uri": "https://localhost:8080/"
        }
      },
      "execution_count": null,
      "outputs": [
        {
          "output_type": "stream",
          "name": "stdout",
          "text": [
            "[1, 13]\n"
          ]
        }
      ]
    },
    {
      "cell_type": "markdown",
      "source": [
        "# Exercice 5\n",
        "Définissez une fonction changeCar(ch,ca1,ca2,début,fin) qui remplace tous les caractères ca1 par des caractères ca2 dans la chaîne de caractères ch, à partir de l'indice début et jusqu'à l'indice fin, ces deux derniers arguments pouvant être omis (et dans ce cas, la chaîne est traitée d'une extrémité à l'autre). Exemples de la fonctionnalité attendue :"
      ],
      "metadata": {
        "id": "-6WIBxT1M1CQ"
      }
    },
    {
      "cell_type": "code",
      "source": [
        "def changeCar(ch, ca1, ca2, debut, fin):\n",
        "      result = ch[debut:fin].replace(ca1, ca2)\n",
        "      print(result)\n",
        "\n",
        "changeCar(\"test c'est incroyable\", \"t\", \"b\", 1, 19)\n",
        "\n",
        "\n"
      ],
      "metadata": {
        "id": "lYrlB87Ubv3j",
        "outputId": "aed63521-1954-4d62-9f53-bf6cc06b7417",
        "colab": {
          "base_uri": "https://localhost:8080/"
        }
      },
      "execution_count": null,
      "outputs": [
        {
          "output_type": "stream",
          "name": "stdout",
          "text": [
            "esb c'esb incroyab\n"
          ]
        }
      ]
    },
    {
      "cell_type": "markdown",
      "source": [
        "# Exercice 6\n",
        "Un permis de chasse à points remplace désormais le permis de chasse traditionnel. Chaque chasseur possède au départ un capital de 100 points. S'il tue une poule, il perd 1 point, 3 points pour un chien, 5 points pour une vache et 10 points pour un ami. Le permis coûte 200 euros.\n",
        "\n",
        "Écrire une fonction amende qui reçoit le nombre de victimes du chasseur et qui renvoie la somme due.\n",
        "\n",
        "Utilisez cette fonction dans un programme principal qui saisit le nombre de victimes et qui affiche la somme que le chasseur doit débourser.\n"
      ],
      "metadata": {
        "id": "lZWIoJvEM1sr"
      }
    },
    {
      "cell_type": "markdown",
      "source": [],
      "metadata": {
        "id": "H6ajrmLuM2Ft"
      }
    },
    {
      "cell_type": "markdown",
      "source": [],
      "metadata": {
        "id": "2MKEqK7NM2Yz"
      }
    },
    {
      "cell_type": "code",
      "source": [
        "def amende():\n",
        "  capital = 100\n",
        "  cout = 0\n",
        "  nbr_victime = int(input(\"Veuillez saisir le nombre de victimes : \"))\n",
        "  for i in range(nbr_victime):\n",
        "    animal = str(input(\"Veuillez saisir les animaux : \"))\n",
        "    if capital <= 0:\n",
        "      cout += 200\n",
        "      capital += 100\n",
        "      print(f\"Vous devez dépenser {cout} euros\")\n",
        "    if animal == \"poule\":\n",
        "      capital -= 1\n",
        "    elif animal == \"chien\":\n",
        "      capital -= 3\n",
        "    elif animal == \"vache\":\n",
        "      capital -= 5\n",
        "    elif animal == \"ami\":\n",
        "      capital -= 10\n",
        "    nbr_victime -= 1\n",
        "  print(f\"il vous reste {capital} points\")\n",
        "\n",
        "amende()\n",
        "\n"
      ],
      "metadata": {
        "id": "gKC2LB6xo56l",
        "outputId": "beb587e7-c7e0-4830-fc36-d6c66937ad31",
        "colab": {
          "base_uri": "https://localhost:8080/"
        }
      },
      "execution_count": null,
      "outputs": [
        {
          "output_type": "stream",
          "name": "stdout",
          "text": [
            "Veuillez saisir le nombre de victimes : 3\n",
            "Veuillez saisir les animaux : chien\n",
            "Veuillez saisir les animaux : poule\n",
            "Veuillez saisir les animaux : ami\n",
            "il vous reste 86 points\n"
          ]
        }
      ]
    }
  ]
}