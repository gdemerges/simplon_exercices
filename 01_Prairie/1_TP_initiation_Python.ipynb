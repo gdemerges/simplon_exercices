{
  "cells": [
    {
      "cell_type": "markdown",
      "metadata": {
        "colab_type": "text",
        "id": "view-in-github"
      },
      "source": [
        "<a href=\"https://colab.research.google.com/github/gdemerges/simplon_exercices/blob/master/1_TP_initiation_Python.ipynb\" target=\"_parent\"><img src=\"https://colab.research.google.com/assets/colab-badge.svg\" alt=\"Open In Colab\"/></a>"
      ]
    },
    {
      "cell_type": "markdown",
      "metadata": {
        "id": "TeMXWAO9UY0I"
      },
      "source": [
        "# Initiation Python - Datasets"
      ]
    },
    {
      "cell_type": "markdown",
      "metadata": {
        "id": "Y0ej5_4tUY0M"
      },
      "source": [
        "## Langage interprété"
      ]
    },
    {
      "cell_type": "markdown",
      "metadata": {
        "id": "Qr5OZaJ1UY0O"
      },
      "source": [
        "Python est un langage interprété, ce qui signifie qu'on peut évaluer des expressions seules en exécutant (avec le bouton \"Executer\" ou CTRL + ENTER) la cellule concernée"
      ]
    },
    {
      "cell_type": "markdown",
      "metadata": {
        "id": "HZfCF-EwUY0P"
      },
      "source": [
        "Exécutez les cellules suivantes et observez les sorties :"
      ]
    },
    {
      "cell_type": "code",
      "execution_count": null,
      "metadata": {
        "colab": {
          "base_uri": "https://localhost:8080/"
        },
        "id": "mmrDZQorUY0R",
        "outputId": "89830674-9c4e-426f-88d2-0ad614e7ffeb"
      },
      "outputs": [],
      "source": [
        "10*6+18"
      ]
    },
    {
      "cell_type": "code",
      "execution_count": null,
      "metadata": {
        "id": "09rpljelUY0V"
      },
      "outputs": [],
      "source": [
        "a = \"je pense donc je suis\""
      ]
    },
    {
      "cell_type": "code",
      "execution_count": null,
      "metadata": {
        "colab": {
          "base_uri": "https://localhost:8080/",
          "height": 36
        },
        "id": "ByRgqlPkUY0X",
        "outputId": "f5381a70-3ca2-463f-c3f7-c9cfb32afdae"
      },
      "outputs": [],
      "source": [
        "a"
      ]
    },
    {
      "cell_type": "code",
      "execution_count": null,
      "metadata": {
        "colab": {
          "base_uri": "https://localhost:8080/"
        },
        "id": "ZYV-m91ZUY0Y",
        "outputId": "62da771f-4def-4258-db0c-e6064b5c039a"
      },
      "outputs": [],
      "source": [
        "print(a)"
      ]
    },
    {
      "cell_type": "code",
      "execution_count": null,
      "metadata": {
        "id": "2W0Hq1W0UY0Z"
      },
      "outputs": [],
      "source": [
        "b = 40"
      ]
    },
    {
      "cell_type": "code",
      "execution_count": null,
      "metadata": {
        "colab": {
          "base_uri": "https://localhost:8080/"
        },
        "id": "gz4yMt8iUY0a",
        "outputId": "3535c549-a5ee-4b9d-f24a-45ea4ce3cac8"
      },
      "outputs": [],
      "source": [
        "b * 10 - 25"
      ]
    },
    {
      "cell_type": "code",
      "execution_count": null,
      "metadata": {
        "id": "IOiD9qWWUY0b"
      },
      "outputs": [],
      "source": [
        "liste=range(10)"
      ]
    },
    {
      "cell_type": "code",
      "execution_count": null,
      "metadata": {
        "colab": {
          "base_uri": "https://localhost:8080/"
        },
        "id": "-F7gJKQWUY0b",
        "outputId": "c0bae4c6-6fd9-4ed4-b4ea-4243a5c998ef"
      },
      "outputs": [],
      "source": [
        "liste[2:4]"
      ]
    },
    {
      "cell_type": "code",
      "execution_count": null,
      "metadata": {
        "colab": {
          "base_uri": "https://localhost:8080/"
        },
        "id": "pArIg0RDUY0c",
        "outputId": "acd388fe-9b35-4d5b-a76a-5191fde955a6"
      },
      "outputs": [],
      "source": [
        "liste[2:6:2]"
      ]
    },
    {
      "cell_type": "code",
      "execution_count": null,
      "metadata": {
        "colab": {
          "base_uri": "https://localhost:8080/"
        },
        "id": "qlK3JpcVUY0d",
        "outputId": "9bd178ef-5aa1-46de-c09f-ae355ef9f825"
      },
      "outputs": [],
      "source": [
        "liste[:4]"
      ]
    },
    {
      "cell_type": "code",
      "execution_count": null,
      "metadata": {
        "colab": {
          "base_uri": "https://localhost:8080/"
        },
        "id": "Xs0wQXsOUY0d",
        "outputId": "0e17a1a8-4775-480b-b535-b6dba6ae6017"
      },
      "outputs": [],
      "source": [
        "liste[::2]"
      ]
    },
    {
      "cell_type": "code",
      "execution_count": null,
      "metadata": {
        "id": "1R4y3mqDUY0e"
      },
      "outputs": [],
      "source": [
        "liste2=[x**2 for x in liste]"
      ]
    },
    {
      "cell_type": "code",
      "execution_count": null,
      "metadata": {
        "id": "e4dxE3UgUY0e"
      },
      "outputs": [],
      "source": [
        "liste3=[x**2 for x in liste if x%2==0]"
      ]
    },
    {
      "cell_type": "code",
      "execution_count": null,
      "metadata": {
        "colab": {
          "base_uri": "https://localhost:8080/"
        },
        "id": "GG3472PRUY0e",
        "outputId": "35e024fd-b65e-47fe-889c-35bc6bfdfaf2"
      },
      "outputs": [],
      "source": [
        "reponse=input(\"Gauche ou Droite ? \")"
      ]
    },
    {
      "cell_type": "code",
      "execution_count": null,
      "metadata": {
        "colab": {
          "base_uri": "https://localhost:8080/",
          "height": 36
        },
        "id": "RKLc5mGcUY0f",
        "outputId": "b2aaa49d-6eb7-4453-c50e-75ccba76f315"
      },
      "outputs": [],
      "source": [
        "reponse"
      ]
    },
    {
      "cell_type": "markdown",
      "metadata": {
        "id": "iO_FbPcrUY0f"
      },
      "source": [
        "## Challenges"
      ]
    },
    {
      "cell_type": "markdown",
      "metadata": {
        "id": "j6B9c5QIUY0f"
      },
      "source": [
        "Créer une liste nommée prix_de_58_maisons contenant des prix de 58 maisons\n",
        "\n",
        "1.   Élément de liste\n",
        "2.   Élément de liste\n",
        "\n",
        "entre 125000€ et 700000€\n"
      ]
    },
    {
      "cell_type": "code",
      "execution_count": null,
      "metadata": {
        "colab": {
          "base_uri": "https://localhost:8080/"
        },
        "id": "2QQnlTdlUY0g",
        "outputId": "166a71a4-fda4-4127-9216-c5fd564c0fd8"
      },
      "outputs": [],
      "source": [
        "import random\n",
        "\n",
        "prix_de_58_maisons = [random.randint(125000, 700000) for _ in range(58)]\n",
        "print(prix_de_58_maisons)"
      ]
    },
    {
      "cell_type": "markdown",
      "metadata": {
        "id": "sQlCoEzEUY0g"
      },
      "source": [
        "A l’aide de boucles et de tests répondez aux questions suivantes :\n",
        "\n",
        "Combien de maisons ont un prix supérieur ou égal à 300000€ ?  \n",
        "Combien de maisons ont un prix compris entre 250000€ et 400000€ ?   \n",
        "Combien de maisons ont un prix qui n’est pas supérieur à 600000€ ?    \n",
        "Combien de maisons ont un prix inférieur à 150000€ ou supérieur à 650000€ ?   \n"
      ]
    },
    {
      "cell_type": "code",
      "execution_count": null,
      "metadata": {
        "colab": {
          "base_uri": "https://localhost:8080/"
        },
        "id": "IsqzagbLUY0h",
        "outputId": "14b6cc0d-d280-4fb0-fdfe-c949c6ae5f46"
      },
      "outputs": [],
      "source": [
        "nb_maisons_sup_ou_egal_300000 = 0\n",
        "nb_maisons_entre_250000_400000 = 0\n",
        "nb_maisons_pas_sup_600000 = 0\n",
        "nb_maisons_inf_150000_ou_sup_650000 = 0\n",
        "\n",
        "for prix in prix_de_58_maisons:\n",
        "  if prix >= 300000:\n",
        "    nb_maisons_sup_ou_egal_300000 += 1\n",
        "\n",
        "  if 250000 <= prix <= 400000:\n",
        "    nb_maisons_entre_250000_400000 += 1\n",
        "\n",
        "  if prix <= 600000:\n",
        "    nb_maisons_pas_sup_600000 += 1\n",
        "\n",
        "  if prix < 150000 or prix > 650000:\n",
        "    nb_maisons_inf_150000_ou_sup_650000 += 1\n",
        "\n",
        "\n",
        "print(\"Nombre de maisons ayant un prix supérieur ou égal à 300000€ :\", nb_maisons_sup_ou_egal_300000)\n",
        "print(\"Nombre de maisons ayant un prix compris entre 250000€ et 400000€ :\", nb_maisons_entre_250000_400000)\n",
        "print(\"Nombre de maisons ayant un prix qui n'est pas supérieur à 600000€ :\", nb_maisons_pas_sup_600000)\n",
        "print(\"Nombre de maisons ayant un prix inférieur à 150000€ ou supérieur à 650000€ :\", nb_maisons_inf_150000_ou_sup_650000)"
      ]
    },
    {
      "cell_type": "markdown",
      "metadata": {
        "id": "NxCZlG8jUY0h"
      },
      "source": [
        "Créer 4 fonctions Python permettant de calculer :\n",
        "- Moyenne  \n",
        "- Variance  \n",
        "- Ecart-type\n",
        "- Médiane\n"
      ]
    },
    {
      "cell_type": "code",
      "execution_count": null,
      "metadata": {
        "colab": {
          "base_uri": "https://localhost:8080/"
        },
        "id": "V3RbLk0kUY0h",
        "outputId": "c793eb8e-3270-4da1-b89a-8195df8c9b68"
      },
      "outputs": [],
      "source": [
        "import numpy as np\n",
        "def calculer_moyenne(prix_maisons):\n",
        "  return np.mean(prix_maisons)\n",
        "moyenne = calculer_moyenne(prix_de_58_maisons)\n",
        "print(\"Moyenne des prix des maisons :\", moyenne)"
      ]
    },
    {
      "cell_type": "code",
      "execution_count": null,
      "metadata": {
        "colab": {
          "base_uri": "https://localhost:8080/"
        },
        "id": "G89E7DNUUY0h",
        "outputId": "433a3601-83fd-4662-e56d-6c616b61cd93"
      },
      "outputs": [],
      "source": [
        "def calculer_variance(prix_maisons):\n",
        "  return np.var(prix_maisons)\n",
        "variance = calculer_variance(prix_de_58_maisons)\n",
        "print(\"Variance des prix des maisons :\", variance)"
      ]
    },
    {
      "cell_type": "code",
      "execution_count": null,
      "metadata": {
        "colab": {
          "base_uri": "https://localhost:8080/"
        },
        "id": "6mM9nWU8UY0h",
        "outputId": "8bb68ca9-ffb2-4c0f-982a-fa61d632880f"
      },
      "outputs": [],
      "source": [
        "def calculer_ecart_type(prix_maisons):\n",
        "  return np.std(prix_maisons)\n",
        "ecart_type = calculer_ecart_type(prix_de_58_maisons)\n",
        "print(\"Écart-type des prix des maisons :\", ecart_type)"
      ]
    },
    {
      "cell_type": "code",
      "execution_count": null,
      "metadata": {
        "colab": {
          "base_uri": "https://localhost:8080/"
        },
        "id": "GcekWQhMMfZq",
        "outputId": "a9da3918-efea-4727-898d-6ae38191deea"
      },
      "outputs": [],
      "source": [
        "def calculer_mediane(prix_maisons):\n",
        "  return np.median(prix_maisons)\n",
        "mediane = calculer_mediane(prix_de_58_maisons)\n",
        "print(\"Médiane des prix des maisons :\", mediane)"
      ]
    },
    {
      "cell_type": "markdown",
      "metadata": {
        "id": "W7UxdJHDUY0h"
      },
      "source": [
        "## Import fichier"
      ]
    },
    {
      "cell_type": "code",
      "execution_count": null,
      "metadata": {
        "colab": {
          "base_uri": "https://localhost:8080/"
        },
        "id": "eUc4inayFJ5c",
        "outputId": "93adbd1d-ead5-4f49-b044-d2b69d4098f6"
      },
      "outputs": [],
      "source": [
        "from google.colab import drive\n",
        "drive.mount('/content/drive')"
      ]
    },
    {
      "cell_type": "markdown",
      "metadata": {
        "id": "kR8WhvN1UY0i"
      },
      "source": [
        "\n",
        "> Import des fichiers et stockage de manière propre dans des dataframes  (3 fichiers : prima.txt, mar2012.csv, mar2012.dbf)\n",
        "> Notebook respectant pep8  \n",
        "> Un titre de notebook  \n",
        "> sommaire interactif  \n",
        "> parties en titre  \n",
        "> Retour au sommaire à chaque partie  \n"
      ]
    },
    {
      "cell_type": "code",
      "execution_count": null,
      "metadata": {
        "colab": {
          "base_uri": "https://localhost:8080/"
        },
        "id": "ymzFdCtXUY0i",
        "outputId": "c5fef3c8-3b32-4579-a029-eaedab0c43d7"
      },
      "outputs": [],
      "source": [
        "import pandas as pd\n",
        "prima_df = pd.read_csv('prima.txt', sep='\\t')\n",
        "print(\"Contenu du fichier primat.txt :\")\n",
        "print(prima_df.head())"
      ]
    },
    {
      "cell_type": "code",
      "execution_count": null,
      "metadata": {
        "colab": {
          "base_uri": "https://localhost:8080/"
        },
        "id": "vZpG3X9GFwKW",
        "outputId": "fa6b9406-5d81-4ee7-8d71-a6bd9812cd7a"
      },
      "outputs": [],
      "source": [
        "import pandas as pd\n",
        "mar_df = pd.read_csv('mar2012.csv', encoding = \"ISO-8859-1\", skiprows= [4])\n",
        "print(\"Contenu du fichier mar2012.csv :\")\n",
        "print(mar_df.head())"
      ]
    },
    {
      "cell_type": "code",
      "execution_count": null,
      "metadata": {
        "colab": {
          "base_uri": "https://localhost:8080/"
        },
        "id": "SPXTBsf0UY0i",
        "outputId": "d0f303e4-4d18-45e7-8e1d-fb3b427efe70"
      },
      "outputs": [],
      "source": [
        "!pip install dbfread\n",
        "from dbfread import DBF\n",
        "dbf = DBF('mar2012.dbf')\n",
        "frame = pd.DataFrame(iter(dbf))\n",
        "print(frame.head())"
      ]
    },
    {
      "cell_type": "markdown",
      "metadata": {
        "id": "L7vWzExMUY0i"
      },
      "source": [
        "## Explorer une base de données"
      ]
    },
    {
      "cell_type": "markdown",
      "metadata": {
        "id": "c-VPdlwxUY0j"
      },
      "source": [
        "Nous allons étudier un jeu de données très simple et très connue : IRIS. Ce dataset contient les informations de 3 variétés de fleurs sur leurs longueurs et largeurs, de sépal et de pétales.  \n",
        "Ce premier exercice vous permettra de manipuler les données et de bien appréhender le langage Python.  \n",
        "Comme pour tous les langages, vous trouverez énormément de documentations et d'aide en ligne, n'hésitez pas à chercher et tester des choses."
      ]
    },
    {
      "cell_type": "markdown",
      "metadata": {
        "id": "WsvJFX0UUY0j"
      },
      "source": [
        "1. Import des données"
      ]
    },
    {
      "cell_type": "code",
      "execution_count": null,
      "metadata": {
        "colab": {
          "base_uri": "https://localhost:8080/"
        },
        "id": "UCiKts5qUY0j",
        "outputId": "0c386482-5273-4ccc-d650-aecedabd6ee9"
      },
      "outputs": [],
      "source": [
        "!pip install pydataset"
      ]
    },
    {
      "cell_type": "code",
      "execution_count": null,
      "metadata": {
        "colab": {
          "base_uri": "https://localhost:8080/"
        },
        "id": "BYRPp2vSUY0j",
        "outputId": "82c89605-87a2-42a8-918e-bb93f103e6c7"
      },
      "outputs": [],
      "source": [
        "from pydataset import data\n",
        "iris = data(\"iris\")"
      ]
    },
    {
      "cell_type": "markdown",
      "metadata": {
        "id": "Y6Z-UnYDUY0k"
      },
      "source": [
        "2. Afficher les données"
      ]
    },
    {
      "cell_type": "code",
      "execution_count": null,
      "metadata": {
        "colab": {
          "base_uri": "https://localhost:8080/",
          "height": 1000
        },
        "id": "g1vOA5GZUY0q",
        "outputId": "8ecc4fa1-769e-46f4-b556-79acc2d99658"
      },
      "outputs": [],
      "source": [
        "iris"
      ]
    },
    {
      "cell_type": "markdown",
      "metadata": {
        "id": "O6Kf6YfJUY0q"
      },
      "source": [
        "Utiliser les fonctions head() et tail() pour afficher les 5 premières et 5 dernières lignes du dataset"
      ]
    },
    {
      "cell_type": "code",
      "execution_count": null,
      "metadata": {
        "colab": {
          "base_uri": "https://localhost:8080/",
          "height": 206
        },
        "id": "phbFatVIUY0q",
        "outputId": "563fe86c-cc43-4b33-b861-8efb06c74cde"
      },
      "outputs": [],
      "source": [
        "iris.head()"
      ]
    },
    {
      "cell_type": "markdown",
      "metadata": {
        "id": "baNYMnUzUY0q"
      },
      "source": [
        "3. Quel est la taille du dataset ? Utiliser la fonction shape et interpréter le résultat"
      ]
    },
    {
      "cell_type": "code",
      "execution_count": null,
      "metadata": {
        "colab": {
          "base_uri": "https://localhost:8080/"
        },
        "id": "hkG0USsJUY0r",
        "outputId": "76583684-8e34-4cb4-91a6-a9bb06544f14"
      },
      "outputs": [],
      "source": [
        "iris.shape"
      ]
    },
    {
      "cell_type": "markdown",
      "metadata": {
        "id": "_zkMvuTLUY0r"
      },
      "source": [
        "4. Afficher toutes les colonnes du dataset"
      ]
    },
    {
      "cell_type": "code",
      "execution_count": null,
      "metadata": {
        "colab": {
          "base_uri": "https://localhost:8080/"
        },
        "id": "8WA-QtiPUY0r",
        "outputId": "a0dccca9-7db5-45a4-d628-6a3d866b3832"
      },
      "outputs": [],
      "source": [
        "iris.columns"
      ]
    },
    {
      "cell_type": "markdown",
      "metadata": {
        "id": "FNjqt572UY0r"
      },
      "source": [
        "5. Sélectionner uniquement la colonnes Sepal.Length"
      ]
    },
    {
      "cell_type": "code",
      "execution_count": null,
      "metadata": {
        "colab": {
          "base_uri": "https://localhost:8080/",
          "height": 1000
        },
        "id": "wwwrsKdTUY0r",
        "outputId": "14ff5e89-4d90-4f3c-a5af-45b647ed7677"
      },
      "outputs": [],
      "source": [
        "iris[ [\"Sepal.Length\"] ]"
      ]
    },
    {
      "cell_type": "markdown",
      "metadata": {
        "id": "3oCTl1vTUY0r"
      },
      "source": [
        "6. Regarder le nombre de fleurs par variétés que contient le dataset (utiliser la fonction value_count)"
      ]
    },
    {
      "cell_type": "code",
      "execution_count": null,
      "metadata": {
        "colab": {
          "base_uri": "https://localhost:8080/"
        },
        "id": "Du5AfYDRUY0r",
        "outputId": "4abd29af-0b9a-454a-ce6e-bd1423668172"
      },
      "outputs": [],
      "source": [
        "iris[\"Species\"].value_counts()"
      ]
    },
    {
      "cell_type": "markdown",
      "metadata": {
        "id": "jFloLWitUY0s"
      },
      "source": [
        "7. Quelle est la largeur moyenne du sépal ?"
      ]
    },
    {
      "cell_type": "code",
      "execution_count": null,
      "metadata": {
        "colab": {
          "base_uri": "https://localhost:8080/"
        },
        "id": "zCBUvSa7UY0s",
        "outputId": "afd2f1b5-f32c-4b3b-d8e8-15ef7c1335c7"
      },
      "outputs": [],
      "source": [
        "iris[\"Sepal.Width\"].mean()"
      ]
    },
    {
      "cell_type": "markdown",
      "metadata": {
        "id": "VgnLEzMTUY0s"
      },
      "source": [
        "8. Quelle est la valeur maximale de longueur de pétale ?"
      ]
    },
    {
      "cell_type": "code",
      "execution_count": null,
      "metadata": {
        "colab": {
          "base_uri": "https://localhost:8080/"
        },
        "id": "SsrVaZMXUY0s",
        "outputId": "822cbfbc-a54c-4672-96d0-6ac641e86d8e"
      },
      "outputs": [],
      "source": [
        "iris[\"Petal.Length\"].max()"
      ]
    },
    {
      "cell_type": "markdown",
      "metadata": {
        "id": "Ss-ghvC8UY0s"
      },
      "source": [
        "9. Sélectionner uniquement les données pour lesquelles la longueur du pétal est >= 5.1 et stocker le résultat dans une nouvelle variable"
      ]
    },
    {
      "cell_type": "code",
      "execution_count": null,
      "metadata": {
        "colab": {
          "base_uri": "https://localhost:8080/"
        },
        "id": "Dpp5o3ddUY0s",
        "outputId": "bb246de7-38d0-4de0-f0d3-3cbe77316104"
      },
      "outputs": [],
      "source": [
        "df = iris[iris[\"Petal.Length\"] >= 5.1]\n",
        "print(df)"
      ]
    }
  ],
  "metadata": {
    "colab": {
      "include_colab_link": true,
      "provenance": []
    },
    "kernelspec": {
      "display_name": "Python 3",
      "language": "python",
      "name": "python3"
    },
    "language_info": {
      "codemirror_mode": {
        "name": "ipython",
        "version": 3
      },
      "file_extension": ".py",
      "mimetype": "text/x-python",
      "name": "python",
      "nbconvert_exporter": "python",
      "pygments_lexer": "ipython3",
      "version": "3.6.4"
    },
    "toc": {
      "base_numbering": 1,
      "nav_menu": {},
      "number_sections": true,
      "sideBar": true,
      "skip_h1_title": false,
      "title_cell": "Table of Contents",
      "title_sidebar": "Contents",
      "toc_cell": false,
      "toc_position": {},
      "toc_section_display": true,
      "toc_window_display": false
    }
  },
  "nbformat": 4,
  "nbformat_minor": 0
}
