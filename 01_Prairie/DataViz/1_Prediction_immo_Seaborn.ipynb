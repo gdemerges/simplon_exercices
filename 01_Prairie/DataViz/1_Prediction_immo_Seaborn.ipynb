{
  "cells": [
    {
      "cell_type": "markdown",
      "metadata": {
        "colab_type": "text",
        "id": "view-in-github"
      },
      "source": [
        "<a href=\"https://colab.research.google.com/github/gdemerges/simplon_exercices/blob/master/1_Prediction_immo_Seaborn.ipynb\" target=\"_parent\"><img src=\"https://colab.research.google.com/assets/colab-badge.svg\" alt=\"Open In Colab\"/></a>"
      ]
    },
    {
      "cell_type": "markdown",
      "metadata": {
        "id": "BnWl8sNZlg3r"
      },
      "source": [
        "# Etude du prix de l'immobilier à Boston avec Seaborn\n",
        "\n",
        "Pour cet exercice, vous devrez reproduire et retrouver les lignes de commandes qui ont permis d'obtenir les visualisations affichées."
      ]
    },
    {
      "cell_type": "markdown",
      "metadata": {
        "id": "GAi7CLJDlg3s"
      },
      "source": [
        "## Import du dataset"
      ]
    },
    {
      "cell_type": "markdown",
      "metadata": {
        "id": "08Opa-SNlg3s"
      },
      "source": [
        "Importation des librairies nécessaires"
      ]
    },
    {
      "cell_type": "code",
      "execution_count": null,
      "metadata": {
        "id": "8_UH-P5_lg3s"
      },
      "outputs": [],
      "source": [
        "import pandas as pd\n",
        "import numpy as np\n",
        "\n",
        "import seaborn as sns"
      ]
    },
    {
      "cell_type": "markdown",
      "metadata": {
        "id": "h-dRnxRFlg3t"
      },
      "source": [
        "Affichage du dataset"
      ]
    },
    {
      "cell_type": "code",
      "execution_count": null,
      "metadata": {
        "id": "_LHfKB8Plg3t"
      },
      "outputs": [],
      "source": [
        "from sklearn import datasets\n",
        "data = datasets.fetch_california_housing()"
      ]
    },
    {
      "cell_type": "code",
      "execution_count": null,
      "metadata": {
        "colab": {
          "base_uri": "https://localhost:8080/"
        },
        "id": "SpEpPSGVlg3t",
        "outputId": "9035a0dd-4ddf-4955-ff16-021a4a9a6168"
      },
      "outputs": [],
      "source": [
        "data"
      ]
    },
    {
      "cell_type": "code",
      "execution_count": null,
      "metadata": {
        "colab": {
          "base_uri": "https://localhost:8080/",
          "height": 206
        },
        "id": "X7YNwKJFlg3t",
        "outputId": "6df20cd2-22ce-4c93-c882-ebe2bf76019b"
      },
      "outputs": [],
      "source": [
        "dataset = pd.DataFrame(columns=data[\"feature_names\"], data=data.data)\n",
        "dataset = pd.concat([dataset,pd.DataFrame({\"Price\":data.target})], axis=1)\n",
        "dataset.head()"
      ]
    },
    {
      "cell_type": "markdown",
      "metadata": {
        "id": "Y_6rJV7Klg3u"
      },
      "source": [
        "## Visualisation en diagramme en barres"
      ]
    },
    {
      "cell_type": "markdown",
      "metadata": {
        "id": "HK3kg-HIlg3u"
      },
      "source": [
        "Regarder la documentation concernant la fonction set() de Seaborn et comment la paramétrer afin d'avoir des tailles de visualisation correcte."
      ]
    },
    {
      "cell_type": "code",
      "execution_count": null,
      "metadata": {
        "id": "c-LwvoFDlg3u"
      },
      "outputs": [],
      "source": [
        "sns.set(style=\"whitegrid\")"
      ]
    },
    {
      "cell_type": "code",
      "execution_count": null,
      "metadata": {
        "colab": {
          "base_uri": "https://localhost:8080/",
          "height": 590
        },
        "id": "EEFfdsZelg3u",
        "outputId": "100fdd98-2c49-4401-d269-f0006ed47faf"
      },
      "outputs": [],
      "source": [
        "dataset['MedHouseVal'] = data.target\n",
        "sns.countplot(data=dataset, y='HouseAge', palette ='Set3')"
      ]
    },
    {
      "cell_type": "markdown",
      "metadata": {
        "id": "1PApIZ_Zlg3u"
      },
      "source": [
        "Création de la colonne AgeGroup qui découpe la colonne Age en tranche d'age en 5 catégories (détaillées dans la commande de résultat)"
      ]
    },
    {
      "cell_type": "code",
      "execution_count": null,
      "metadata": {
        "colab": {
          "base_uri": "https://localhost:8080/",
          "height": 588
        },
        "id": "Gj2nwa7Klg3u",
        "outputId": "24702853-6ac0-4747-a1a0-6d306a8dea26"
      },
      "outputs": [],
      "source": [
        "bins = [0, 10, 20, 30, 40, 55]\n",
        "dataset['AgeGroup'] = pd.cut(dataset['HouseAge'], bins=bins)\n",
        "sns.countplot(data=dataset, y='AgeGroup', palette = \"Set1\")"
      ]
    },
    {
      "cell_type": "markdown",
      "metadata": {
        "id": "80vWRni3lg3u"
      },
      "source": [
        "## Visualisation en boite à moustaches"
      ]
    },
    {
      "cell_type": "code",
      "execution_count": null,
      "metadata": {
        "colab": {
          "base_uri": "https://localhost:8080/",
          "height": 476
        },
        "id": "n9WVQ0YKlg3u",
        "outputId": "70fd78d4-361d-4927-8f64-093fa188b5c9"
      },
      "outputs": [],
      "source": [
        "sns.boxplot(x=dataset[\"Price\"], color = 'green')"
      ]
    },
    {
      "cell_type": "code",
      "execution_count": null,
      "metadata": {
        "colab": {
          "base_uri": "https://localhost:8080/",
          "height": 476
        },
        "id": "x1UMKI0alg3v",
        "outputId": "69052078-c682-457a-a04c-92affe668ed2"
      },
      "outputs": [],
      "source": [
        "sns.boxplot(data=dataset, x=\"AgeGroup\", y=\"Price\", color = 'yellow')"
      ]
    },
    {
      "cell_type": "markdown",
      "metadata": {
        "id": "8q-zfeA-lg3v"
      },
      "source": [
        "## Visualisation en nuage de point"
      ]
    },
    {
      "cell_type": "code",
      "execution_count": null,
      "metadata": {
        "colab": {
          "base_uri": "https://localhost:8080/",
          "height": 631
        },
        "id": "UMLBrTWzlg3v",
        "outputId": "0fea4334-05fc-46df-e353-756e8277d117"
      },
      "outputs": [],
      "source": [
        "sns.catplot(x=\"AgeGroup\", y=\"AveRooms\", jitter=False, data=dataset, palette = \"ch:.25\" )"
      ]
    },
    {
      "cell_type": "code",
      "execution_count": null,
      "metadata": {
        "colab": {
          "base_uri": "https://localhost:8080/",
          "height": 476
        },
        "id": "FHFcjoH7lg3v",
        "outputId": "7f1d193d-4bf8-48f6-f7a5-88c40f0859ff"
      },
      "outputs": [],
      "source": [
        "sns.scatterplot(data=dataset, x=\"Price\", y=\"AveBedrms\", hue=\"HouseAge\", size=\"AveRooms\")\n"
      ]
    },
    {
      "cell_type": "markdown",
      "metadata": {
        "id": "5bJ-VN2ylg3v"
      },
      "source": [
        "On créé un nouveau dataset, qu'on nommera dataset_2 qui récupère seulement les données pour lesquels le nombre de chambre (AveBedrms) est inférieur strictement à 5."
      ]
    },
    {
      "cell_type": "code",
      "execution_count": null,
      "metadata": {
        "colab": {
          "base_uri": "https://localhost:8080/",
          "height": 206
        },
        "id": "OKXqZTSelg3v",
        "outputId": "7290fdea-d637-4477-b65a-b091c0182127"
      },
      "outputs": [],
      "source": [
        "dataset_2 = dataset.loc[dataset['AveBedrms'] < 5]\n",
        "dataset_2.head()"
      ]
    },
    {
      "cell_type": "code",
      "execution_count": null,
      "metadata": {
        "colab": {
          "base_uri": "https://localhost:8080/",
          "height": 476
        },
        "id": "m5yI_ULRlg3v",
        "outputId": "9741bc44-1d52-49ae-b6a0-222ca6217e9f"
      },
      "outputs": [],
      "source": [
        "sns.scatterplot(data=dataset_2, x=\"Price\", y=\"AveBedrms\", hue=\"AgeGroup\")"
      ]
    },
    {
      "cell_type": "markdown",
      "metadata": {
        "id": "mW1B0SABlg3v"
      },
      "source": [
        "[texte du lien](https://)## Visualisation globale de l'ensemble des variables"
      ]
    },
    {
      "cell_type": "code",
      "execution_count": null,
      "metadata": {
        "colab": {
          "base_uri": "https://localhost:8080/",
          "height": 755
        },
        "id": "JfFBmVVIlg3v",
        "outputId": "019493c3-0d40-498f-caf1-812cc94a04b5"
      },
      "outputs": [],
      "source": [
        "import matplotlib.pyplot as plt\n",
        "sns.pairplot(dataset, vars=[\"AveBedrms\", \"AveOccup\", \"AveRooms\"], corner = True)\n",
        "plt.show()"
      ]
    },
    {
      "cell_type": "markdown",
      "metadata": {
        "id": "ZUdNcmerlg3v"
      },
      "source": [
        "Qu'est-ce que vous voyez ?"
      ]
    }
  ],
  "metadata": {
    "colab": {
      "include_colab_link": true,
      "provenance": []
    },
    "kernelspec": {
      "display_name": "Python 3",
      "language": "python",
      "name": "python3"
    },
    "language_info": {
      "codemirror_mode": {
        "name": "ipython",
        "version": 3
      },
      "file_extension": ".py",
      "mimetype": "text/x-python",
      "name": "python",
      "nbconvert_exporter": "python",
      "pygments_lexer": "ipython3",
      "version": "3.8.3"
    }
  },
  "nbformat": 4,
  "nbformat_minor": 0
}
