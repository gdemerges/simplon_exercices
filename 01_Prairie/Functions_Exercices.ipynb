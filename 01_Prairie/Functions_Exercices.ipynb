{
  "nbformat": 4,
  "nbformat_minor": 0,
  "metadata": {
    "colab": {
      "provenance": [],
      "include_colab_link": true
    },
    "kernelspec": {
      "name": "python3",
      "display_name": "Python 3"
    },
    "language_info": {
      "name": "python"
    }
  },
  "cells": [
    {
      "cell_type": "markdown",
      "metadata": {
        "id": "view-in-github",
        "colab_type": "text"
      },
      "source": [
        "<a href=\"https://colab.research.google.com/github/gdemerges/simplon_exercices/blob/master/Functions_Exercices.ipynb\" target=\"_parent\"><img src=\"https://colab.research.google.com/assets/colab-badge.svg\" alt=\"Open In Colab\"/></a>"
      ]
    },
    {
      "cell_type": "markdown",
      "source": [
        "# Exercice 1"
      ],
      "metadata": {
        "id": "WhbsEthrRju9"
      }
    },
    {
      "cell_type": "markdown",
      "source": [
        "#### LESSER OF TWO EVENS: Write a function that returns the lesser of two given numbers *if* both numbers are even, but returns the greater if one or both numbers are odd\n",
        "    lesser_of_two_evens(2,4) --> 2\n",
        "    lesser_of_two_evens(2,5) --> 5"
      ],
      "metadata": {
        "id": "d-rmd7qeRf5q"
      }
    },
    {
      "cell_type": "code",
      "source": [
        "def lesser_of_two_evens(a, b):\n",
        "  if a % 2 == 0 and b % 2 == 0:\n",
        "        return min(a, b)\n",
        "  else:\n",
        "        return max(a, b)\n",
        "\n",
        "lesser_of_two_evens(2, 4)"
      ],
      "metadata": {
        "colab": {
          "base_uri": "https://localhost:8080/"
        },
        "id": "n5s05ybC4h04",
        "outputId": "be1d69ab-62ed-47d9-94eb-9be7a5eddfc8"
      },
      "execution_count": null,
      "outputs": [
        {
          "output_type": "execute_result",
          "data": {
            "text/plain": [
              "2"
            ]
          },
          "metadata": {},
          "execution_count": 4
        }
      ]
    },
    {
      "cell_type": "markdown",
      "source": [
        "# Exercice 2"
      ],
      "metadata": {
        "id": "CzExIXf2RuR-"
      }
    },
    {
      "cell_type": "markdown",
      "source": [
        "#### ANIMAL CRACKERS: Write a function takes a two-word string and returns True if both words begin with same letter\n",
        "    animal_crackers('Levelheaded Llama') --> True\n",
        "    animal_crackers('Crazy Kangaroo') --> False"
      ],
      "metadata": {
        "id": "dYAnxy3zRsqT"
      }
    },
    {
      "cell_type": "code",
      "source": [
        "def animal_crakers(text):\n",
        "  words = text.split()\n",
        "  if len(words) >= 2 and words[0][0].lower() == words[1][0].lower():\n",
        "        return True\n",
        "  else:\n",
        "        return False\n",
        "\n",
        "animal_crakers(\"test\")"
      ],
      "metadata": {
        "colab": {
          "base_uri": "https://localhost:8080/"
        },
        "id": "LzwpcioL5d5m",
        "outputId": "52667da6-a667-42cd-94e1-44de9e78bff7"
      },
      "execution_count": null,
      "outputs": [
        {
          "output_type": "execute_result",
          "data": {
            "text/plain": [
              "False"
            ]
          },
          "metadata": {},
          "execution_count": 21
        }
      ]
    },
    {
      "cell_type": "markdown",
      "source": [
        "# LEVEL 1 Problems"
      ],
      "metadata": {
        "id": "43vCZQhXTaOx"
      }
    },
    {
      "cell_type": "markdown",
      "source": [
        "#### OLD MACDONALD: Write a function that capitalizes the first and fourth\n",
        "     \n",
        "    old_macdonald('macdonald') --> MacDonald\n",
        "    \n",
        "Note: `'macdonald'.capitalize()` returns `'Macdonald'`"
      ],
      "metadata": {
        "id": "edHdXx0lTjpj"
      }
    },
    {
      "cell_type": "code",
      "source": [
        "def old_macdonald(text):\n",
        "  if len(text) < 4:\n",
        "    return text.capitalize()\n",
        "  else:\n",
        "    return text[0].upper() + text[1:3] + text[3].upper() + text[4:]\n",
        "\n",
        "old_macdonald(\"aha\")"
      ],
      "metadata": {
        "colab": {
          "base_uri": "https://localhost:8080/",
          "height": 36
        },
        "id": "wm7YU5El9-WO",
        "outputId": "ae31f267-b681-42f1-90c4-1d9ee9f8bbf7"
      },
      "execution_count": null,
      "outputs": [
        {
          "output_type": "execute_result",
          "data": {
            "text/plain": [
              "'Aha'"
            ],
            "application/vnd.google.colaboratory.intrinsic+json": {
              "type": "string"
            }
          },
          "metadata": {},
          "execution_count": 17
        }
      ]
    },
    {
      "cell_type": "markdown",
      "source": [
        "#### MASTER YODA: Given a sentence, return a sentence with the words reversed\n",
        "\n",
        "    master_yoda('I am home') --> 'home am I'\n",
        "    master_yoda('We are ready') --> 'ready are We'\n",
        "    \n",
        "Note: The .join() method may be useful here. The .join() method allows you to join together strings in a list with some connector string. For example, some uses of the .join() method:\n",
        "\n",
        "    >>> \"--\".join(['a','b','c'])\n",
        "    >>> 'a--b--c'\n",
        "\n",
        "This means if you had a list of words you wanted to turn back into a sentence, you could just join them with a single space string:\n",
        "\n",
        "    >>> \" \".join(['Hello','world'])\n",
        "    >>> \"Hello world\""
      ],
      "metadata": {
        "id": "qQ3tAzBaTrQr"
      }
    },
    {
      "cell_type": "code",
      "source": [
        "def master_yoda(sentence):\n",
        "  words = sentence.split(' ')\n",
        "  reverse_sentence = ' '.join(reversed(words))\n",
        "  return reverse_sentence\n",
        "\n",
        "master_yoda(\"I am home\")\n",
        "master_yoda('We are ready')"
      ],
      "metadata": {
        "colab": {
          "base_uri": "https://localhost:8080/",
          "height": 36
        },
        "id": "bAEMWVT3ABGu",
        "outputId": "c4c374bd-9619-45a1-fbf5-ae3372d25197"
      },
      "execution_count": null,
      "outputs": [
        {
          "output_type": "execute_result",
          "data": {
            "text/plain": [
              "'ready are We'"
            ],
            "application/vnd.google.colaboratory.intrinsic+json": {
              "type": "string"
            }
          },
          "metadata": {},
          "execution_count": 38
        }
      ]
    },
    {
      "cell_type": "markdown",
      "source": [
        "#### ALMOST THERE: Given an integer n, return True if n is within 10 of either 100 or 200\n",
        "\n",
        "    almost_there(90) --> True\n",
        "    almost_there(104) --> True\n",
        "    almost_there(150) --> False\n",
        "    almost_there(209) --> True\n",
        "    \n",
        "NOTE: `abs(num)` returns the absolute value of a number"
      ],
      "metadata": {
        "id": "dhuA3YtvTzu-"
      }
    },
    {
      "cell_type": "code",
      "source": [
        "def almost_there(n):\n",
        "  if n >= 90 and n <= 110:\n",
        "    return True\n",
        "  elif n >= 190 and n <= 210:\n",
        "    return True\n",
        "  else:\n",
        "    return False\n",
        "\n",
        "almost_there(90)"
      ],
      "metadata": {
        "colab": {
          "base_uri": "https://localhost:8080/"
        },
        "id": "a9vxCsgS_-Mu",
        "outputId": "233bc204-02c0-45ee-c14e-4a60090ba501"
      },
      "execution_count": null,
      "outputs": [
        {
          "output_type": "execute_result",
          "data": {
            "text/plain": [
              "True"
            ]
          },
          "metadata": {},
          "execution_count": 42
        }
      ]
    },
    {
      "cell_type": "markdown",
      "source": [
        "# LEVEL 2 Problems"
      ],
      "metadata": {
        "id": "B7pPg_9lT5VL"
      }
    },
    {
      "cell_type": "markdown",
      "source": [
        "#### FIND 33:\n",
        "\n",
        "Given a list of ints, return True if the array contains a 3 next to a 3 somewhere.\n",
        "\n",
        "    has_33([1, 3, 3]) → True\n",
        "    has_33([1, 3, 1, 3]) → False\n",
        "    has_33([3, 1, 3]) → False"
      ],
      "metadata": {
        "id": "JjdKOiORUCsR"
      }
    },
    {
      "cell_type": "code",
      "source": [
        "def has_33(list_ints):\n",
        "  for i in range(len(list_ints) - 1):\n",
        "    if list_ints[i]== 3 and list_ints[i+1]==3:\n",
        "      return True\n",
        "    return False\n",
        "\n",
        "has_33([3, 3, 3])"
      ],
      "metadata": {
        "colab": {
          "base_uri": "https://localhost:8080/"
        },
        "id": "wcuZqm-oFWo9",
        "outputId": "dff8ea3b-5f8b-4ce4-c571-4ca63e040121"
      },
      "execution_count": null,
      "outputs": [
        {
          "output_type": "execute_result",
          "data": {
            "text/plain": [
              "True"
            ]
          },
          "metadata": {},
          "execution_count": 91
        }
      ]
    },
    {
      "cell_type": "markdown",
      "source": [
        "#### PAPER DOLL: Given a string, return a string where for every character in the original there are three characters\n",
        "    paper_doll('Hello') --> 'HHHeeellllllooo'\n",
        "    paper_doll('Mississippi') --> 'MMMiiissssssiiippppppiii'"
      ],
      "metadata": {
        "id": "DTtpP6slULOv"
      }
    },
    {
      "cell_type": "code",
      "source": [
        "def paper_doll(string):\n",
        "    return ''.join([i * 3 for i in string])\n",
        "\n",
        "paper_doll(\"Hello\")"
      ],
      "metadata": {
        "colab": {
          "base_uri": "https://localhost:8080/",
          "height": 36
        },
        "id": "fNZKS5dWHIXx",
        "outputId": "78eee638-d7c7-4f45-ea6d-2276f5bcb6e7"
      },
      "execution_count": null,
      "outputs": [
        {
          "output_type": "execute_result",
          "data": {
            "text/plain": [
              "'HHHeeellllllooo'"
            ],
            "application/vnd.google.colaboratory.intrinsic+json": {
              "type": "string"
            }
          },
          "metadata": {},
          "execution_count": 75
        }
      ]
    },
    {
      "cell_type": "markdown",
      "source": [
        "#### BLACKJACK: Given three integers between 1 and 11, if their sum is less than or equal to 21, return their sum. If their sum exceeds 21 *and* there's an eleven, reduce the total sum by 10. Finally, if the sum (even after adjustment) exceeds 21, return 'BUST'\n",
        "    blackjack(5,6,7) --> 18\n",
        "    blackjack(9,9,9) --> 'BUST'\n",
        "    blackjack(9,9,11) --> 19"
      ],
      "metadata": {
        "id": "2cseezhjUR9s"
      }
    },
    {
      "cell_type": "code",
      "source": [
        "def blackjack(int1, int2, int3):\n",
        "  int_sum = int1 + int2 + int3\n",
        "  if int_sum <= 21:\n",
        "    return int_sum\n",
        "  elif int_sum > 21 and 11 in [int1, int2, int3]:\n",
        "    return int_sum - 10\n",
        "  else:\n",
        "    return 'BUST'\n",
        "\n",
        "blackjack(12, 11, 8)"
      ],
      "metadata": {
        "id": "ymfDjjvKUKkq",
        "colab": {
          "base_uri": "https://localhost:8080/"
        },
        "outputId": "3f77aec1-fe5c-408f-9aae-86978845f3b4"
      },
      "execution_count": null,
      "outputs": [
        {
          "output_type": "execute_result",
          "data": {
            "text/plain": [
              "21"
            ]
          },
          "metadata": {},
          "execution_count": 65
        }
      ]
    },
    {
      "cell_type": "markdown",
      "source": [
        "#### SPY GAME: Write a function that takes in a list of integers and returns True if it contains 007 in order\n",
        "\n",
        "     spy_game([1,2,4,0,0,7,5]) --> True\n",
        "     spy_game([1,0,2,4,0,5,7]) --> True\n",
        "     spy_game([1,7,2,0,4,5,0]) --> False\n"
      ],
      "metadata": {
        "id": "DoqrPyoAUYH7"
      }
    },
    {
      "cell_type": "code",
      "source": [
        "def spy_game(list_int):\n",
        "  ordre = [0, 0, 7]\n",
        "  ordre_index = 0\n",
        "  for i in list_int:\n",
        "    if i == ordre[ordre_index]:\n",
        "      ordre_index += 1\n",
        "      if ordre_index == len(ordre):\n",
        "        return True\n",
        "  return False\n",
        "\n",
        "spy_game([0, 7, 7, 0, 1, 2])"
      ],
      "metadata": {
        "id": "4GvP05thUYnB",
        "colab": {
          "base_uri": "https://localhost:8080/"
        },
        "outputId": "058baf54-2634-48af-d19f-75cbac4eee8e"
      },
      "execution_count": null,
      "outputs": [
        {
          "output_type": "execute_result",
          "data": {
            "text/plain": [
              "False"
            ]
          },
          "metadata": {},
          "execution_count": 83
        }
      ]
    }
  ]
}