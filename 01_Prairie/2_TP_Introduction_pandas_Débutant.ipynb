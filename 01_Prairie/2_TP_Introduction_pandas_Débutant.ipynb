{
  "cells": [
    {
      "cell_type": "markdown",
      "metadata": {
        "colab_type": "text",
        "id": "view-in-github"
      },
      "source": [
        "<a href=\"https://colab.research.google.com/github/gdemerges/simplon_exercices/blob/master/2_TP_Introduction_pandas_De%CC%81butant.ipynb\" target=\"_parent\"><img src=\"https://colab.research.google.com/assets/colab-badge.svg\" alt=\"Open In Colab\"/></a>"
      ]
    },
    {
      "cell_type": "markdown",
      "id": "44105490-a6e2-4f9c-b69f-d4fdd14add98",
      "metadata": {
        "id": "44105490-a6e2-4f9c-b69f-d4fdd14add98"
      },
      "source": [
        "# Pratique de pandas : un exemple complet\n",
        "\n",
        "Les exemples de ce TP sont visualisables sous forme de `Jupyter Notebooks`:\n",
        "\n",
        "Dans cette série d’exercices `Pandas`, nous allons découvrir comment manipuler plusieursjeux de données avec `Python`.\n",
        "\n",
        "Dans ce tutoriel, nous allons utiliser deux sources de données :\n",
        "\n",
        "-   Les émissions de gaz à effet de serre estimées au niveau communal par l’`ADEME`. Le jeu de données est\n",
        "    disponible sur [data.gouv](https://www.data.gouv.fr/fr/datasets/inventaire-de-gaz-a-effet-de-serre-territorialise/#_)\n",
        "    et requêtable directement dans `Python` avec\n",
        "    [cet url](https://koumoul.com/s/data-fair/api/v1/datasets/igt-pouvoir-de-rechauffement-global/convert) (ce sera l’objet du premier exercice).\n",
        "-   Idéalement, on utiliserait directement les données\n",
        "    [disponibles sur le site de l’Insee](https://www.insee.fr/fr/statistiques/3560121) mais celles-ci nécessitent un peu de travail\n",
        "    de nettoyage qui n’entre pas dans le cadre de ce TP.\n",
        "    Pour faciliter l’import de données Insee, il est recommandé d’utiliser le *package*\n",
        "    [`pynsee`](https://pynsee.readthedocs.io/en/latest/) qui simplifie l’accès aux données\n",
        "    de l’Insee disponibles sur le site web [insee.fr](https://www.insee.fr/fr/accueil)\n",
        "    ou via des API.\n",
        "\n",
        "La librairie `pynsee` n’est pas installée par défaut avec `Python`. Avant de pouvoir l’utiliser, il est nécessaire de l’installer :"
      ]
    },
    {
      "cell_type": "code",
      "execution_count": null,
      "id": "0e0457e9",
      "metadata": {
        "colab": {
          "base_uri": "https://localhost:8080/"
        },
        "id": "0e0457e9",
        "outputId": "8ec011c1-ddc0-49c6-c7c6-48c04789d0e7"
      },
      "outputs": [],
      "source": [
        "!pip install xlrd\n",
        "!pip install pynsee"
      ]
    },
    {
      "cell_type": "markdown",
      "id": "9a2d08ba-a06c-4bb5-8ae9-8ffa05fbbf89",
      "metadata": {
        "id": "9a2d08ba-a06c-4bb5-8ae9-8ffa05fbbf89"
      },
      "source": [
        "Toutes les dépendances indispensables étant installées, il suffit\n",
        "maintenant d’importer les librairies qui seront utilisées\n",
        "pendant ces exercices :"
      ]
    },
    {
      "cell_type": "code",
      "execution_count": null,
      "id": "8fb01c61",
      "metadata": {
        "id": "8fb01c61"
      },
      "outputs": [],
      "source": [
        "import numpy as np\n",
        "import pandas as pd\n",
        "import matplotlib.pyplot as plt\n",
        "import pynsee\n",
        "import pynsee.download"
      ]
    },
    {
      "cell_type": "markdown",
      "id": "2cd9a295-1118-4bf9-900a-206ef70cbaea",
      "metadata": {
        "id": "2cd9a295-1118-4bf9-900a-206ef70cbaea"
      },
      "source": [
        "## Importer les données\n",
        "\n",
        "### Import d’un csv de l’Ademe\n",
        "\n",
        "L’URL d’accès aux données peut être conservé dans une variable *ad hoc* :"
      ]
    },
    {
      "cell_type": "code",
      "execution_count": null,
      "id": "f09c37f1",
      "metadata": {
        "id": "f09c37f1"
      },
      "outputs": [],
      "source": [
        "url = \"https://koumoul.com/s/data-fair/api/v1/datasets/igt-pouvoir-de-rechauffement-global/convert\""
      ]
    },
    {
      "cell_type": "markdown",
      "id": "d0ed2273-fb6b-498b-8301-2d438fa677b9",
      "metadata": {
        "id": "d0ed2273-fb6b-498b-8301-2d438fa677b9"
      },
      "source": [
        "L’objectif du premier exercice est de se familiariser à l’import et l’affichage de données\n",
        "avec `Pandas`."
      ]
    },
    {
      "cell_type": "markdown",
      "id": "71592fff-e48d-4a8f-b080-95bb8ec272bb",
      "metadata": {
        "id": "71592fff-e48d-4a8f-b080-95bb8ec272bb"
      },
      "source": [
        "<div class=\"alert alert-success\" role=\"alert\" style=\"color: rgba(0,0,0,.8); background-color: white; margin-top: 1em; margin-bottom: 1em; margin:1.5625emauto; padding:0 .6rem .8rem!important;overflow:hidden; page-break-inside:avoid; border-radius:.25rem; box-shadow:0 .2rem .5rem rgba(0,0,0,.05),0 0 .05rem rgba(0,0,0,.1); transition:color .25s,background-color .25s,border-color .25s ; border-right: 1px solid #dee2e6 ; border-top: 1px solid #dee2e6 ; border-bottom: 1px solid #dee2e6 ; border-left:.2rem solid #3fb618;\">\n",
        "<h3 class=\"alert-heading\"><i class=\"fa fa-pencil\"></i> Exercice 1: Importer un CSV et explorer la structure de données</h3>\n",
        "\n",
        "1.  Importer les données de l’Ademe à l’aide du package `Pandas` et de la commande consacrée pour l’import de csv. Nommer le `DataFrame` obtenu `emissions`[1].  \n",
        "2.  Utiliser les méthodes adéquates afin d’afficher pour les 10 premières valeurs, les 15 dernières et un échantillon aléatoire de 10 valeurs grâce aux méthodes adéquates du *package* `Pandas`.  \n",
        "3.  Tirer 5 pourcents de l’échantillon sans remise.  \n",
        "4.  Ne conserver que les 10 premières lignes et tirer aléatoirement dans celles-ci pour obtenir un DataFrame de 100 données.  \n",
        "5.  Faire 100 tirages à partir des 6 premières lignes avec une probabilité de 1/2 pour la première observation et une probabilité uniforme pour les autres.  \n",
        "\n",
        "<details>\n",
        "\n",
        "<summary>\n",
        "\n",
        "En cas de blocage à la question 1\n",
        "\n",
        "</summary>\n",
        "\n",
        "Lire la documentation de `read_csv` (très bien faite) ou chercher des exemples\n",
        "en ligne pour découvrir cette fonction.\n",
        "\n",
        "</details>\n",
        "\n",
        "</div>\n",
        "\n",
        "[1] Par manque d’imagination, on est souvent tenté d’appeler notre\n",
        "*dataframe* principal `df` ou `data`. C’est souvent une mauvaise idée puisque\n",
        "ce nom n’est pas très informatif quand on relit le code quelques semaines\n",
        "plus tard. L’autodocumentation, approche qui consiste à avoir un code\n",
        "qui se comprend de lui-même, est une bonne pratique et il est donc recommandé\n",
        "de donner un nom simple mais efficace pour connaître la nature du *dataset* en question."
      ]
    },
    {
      "cell_type": "code",
      "execution_count": null,
      "id": "a3sL4EA4It_z",
      "metadata": {
        "colab": {
          "base_uri": "https://localhost:8080/"
        },
        "id": "a3sL4EA4It_z",
        "outputId": "cfd0a3a9-2f68-4909-ba04-7755d5a1f19e"
      },
      "outputs": [],
      "source": [
        "emissions = pd.read_csv(url)\n",
        "print(\"10 premières valeurs :\")\n",
        "print(emissions.head(10))\n",
        "print(\"\\n15 dernières valeurs :\")\n",
        "print(emissions.tail(15))\n",
        "print(\"\\nÉchantillon aléatoire de 10 valeurs :\")\n",
        "print(emissions.sample(10))\n",
        "print(\"\\n5 pourcents :\")\n",
        "echantillon_sans_remise = emissions.sample(frac=0.05, replace=False)\n",
        "print(echantillon_sans_remise)\n",
        "print(\"\\n4eme question :\")\n",
        "donnees_100 = emissions.head(10).sample(n=100, replace=True)\n",
        "print(donnees_100)\n",
        "print(\"\\n5eme question :\")\n",
        "premieres_lignes = emissions.head(6)\n",
        "weights = [0.5] + [0.5 / 5] * 5\n",
        "tirages_100 = pd.concat([premieres_lignes.sample(n=1, replace=True, weights=weights) for _ in range(100)], ignore_index=True)\n",
        "print(tirages_100)"
      ]
    },
    {
      "cell_type": "markdown",
      "id": "772bbceb-04dc-4a57-8535-a35db8603377",
      "metadata": {
        "id": "772bbceb-04dc-4a57-8535-a35db8603377"
      },
      "source": [
        "<div class=\"alert alert-success\" role=\"alert\" style=\"color: rgba(0,0,0,.8); background-color: white; margin-top: 1em; margin-bottom: 1em; margin:1.5625emauto; padding:0 .6rem .8rem!important;overflow:hidden; page-break-inside:avoid; border-radius:.25rem; box-shadow:0 .2rem .5rem rgba(0,0,0,.05),0 0 .05rem rgba(0,0,0,.1); transition:color .25s,background-color .25s,border-color .25s ; border-right: 1px solid #dee2e6 ; border-top: 1px solid #dee2e6 ; border-bottom: 1px solid #dee2e6 ; border-left:.2rem solid #3fb618;\">\n",
        "<h3 class=\"alert-heading\"><i class=\"fa fa-pencil\"></i> Exercice 2: Découverte des verbes de <code>Pandas</code> pour manipuler des données</h3>\n",
        "\n",
        "En premier lieu, on propose de se familiariser avec les opérations sur\n",
        "les colonnes.  \n",
        "\n",
        "1.  Créer un *dataframe* `emissions_copy` ne conservant que les colonnes\n",
        "    `INSEE commune`, `Commune`, `Autres transports` et `Autres transports international`  \n",
        "\n",
        "2.  Comme les noms de variables sont peu pratiques, les renommer de la\n",
        "    manière suivante :\n",
        "    -   `INSEE commune` $\\to$ `code_insee`  \n",
        "    -   `Autres transports` $\\to$ `transports`   \n",
        "    -   `Autres transports international` $\\to$ `transports_international`  \n",
        "\n",
        "3.  On propose, pour simplifier, de remplacer les valeurs manquantes (`NA`)\n",
        "    par la valeur 0. Utiliser la\n",
        "    méthode [`fillna`](https://pandas.pydata.org/docs/reference/api/pandas.DataFrame.fillna.html)\n",
        "    pour transformer les valeurs manquantes en 0.  \n",
        "\n",
        "4.  Créer les variables suivantes :  \n",
        "\n",
        "    -   `dep`: le département. Celui-ci peut être créé grâce aux deux premiers caractères de `code_insee` en appliquant la méthode `str` ;  \n",
        "    -   `transports_total`: les émissions du secteur transports (somme des deux variables)  \n",
        "\n",
        "\n",
        "5.  Ordonner les données du plus gros pollueur au plus petit\n",
        "    puis ordonner les données\n",
        "    du plus gros pollueur au plus petit par département (du 01 au 95).  \n",
        "\n",
        "5.  Ne conserver que les communes appartenant aux départements 13 ou 31.\n",
        "    Ordonner ces communes du plus gros pollueur au plus petit.  \n",
        "\n",
        "6.  Calculer les émissions totales par départements  \n"
      ]
    },
    {
      "cell_type": "code",
      "execution_count": null,
      "id": "Z1JXck0iIt_0",
      "metadata": {
        "id": "Z1JXck0iIt_0"
      },
      "outputs": [],
      "source": [
        "emissions_copy = emissions[['INSEE commune', 'Commune', 'Autres transports', 'Autres transports international']].copy()\n",
        "emissions_copy.rename(columns={'INSEE commune': 'code_insee', 'Autres transports': 'transports', 'Autres transports international': 'transports_international'}, inplace=True)\n",
        "emissions_copy.fillna(0, inplace=True)\n",
        "emissions_copy['dep'] = emissions_copy['code_insee'].str[:2]\n",
        "emissions_copy['transports_total'] = emissions_copy['transports'] + emissions_copy['transports_international']\n",
        "emissions_departements = emissions_copy.groupby('dep')['transports_total'].sum().reset_index()"
      ]
    },
    {
      "cell_type": "markdown",
      "id": "2e05f4a0-1438-4992-8f8f-4013025568f7",
      "metadata": {
        "id": "2e05f4a0-1438-4992-8f8f-4013025568f7"
      },
      "source": [
        "A la question 5, quand on ordonne les communes exclusivement à partir de la variable\n",
        "`transports_total`, on obtient ainsi:"
      ]
    },
    {
      "cell_type": "code",
      "execution_count": null,
      "id": "3ed52591",
      "metadata": {
        "colab": {
          "base_uri": "https://localhost:8080/"
        },
        "id": "3ed52591",
        "outputId": "c8c7b081-e48a-4b33-a6fe-483f55e211ab"
      },
      "outputs": [],
      "source": [
        "print(\"Du plus gros pollueur au plus petit :\")\n",
        "emissions_copy = emissions_copy.sort_values(by='transports_total', ascending=False)\n",
        "print(emissions_copy)\n",
        "print(\"Du plus gros pollueur au plus petit par département :\")\n",
        "emissions_copy = emissions_copy.sort_values(by=['dep', 'transports_total'], ascending=[True, False])\n",
        "print(emissions_copy)"
      ]
    },
    {
      "cell_type": "markdown",
      "id": "515a69c9-dff6-4456-90df-4af6337aa74c",
      "metadata": {
        "id": "515a69c9-dff6-4456-90df-4af6337aa74c"
      },
      "source": [
        "A la question 6, on obtient ce classement :"
      ]
    },
    {
      "cell_type": "code",
      "execution_count": null,
      "id": "74206d00",
      "metadata": {
        "colab": {
          "base_uri": "https://localhost:8080/"
        },
        "id": "74206d00",
        "outputId": "f8fa538a-c438-4836-b1ac-e5c25e2a95eb"
      },
      "outputs": [],
      "source": [
        "emissions_dep_13_31 = emissions_copy[emissions_copy['dep'].isin(['13', '31'])]\n",
        "emissions_dep_13_31 = emissions_dep_13_31.sort_values(by='transports_total', ascending=False)\n",
        "print(emissions_dep_13_31)\n",
        "print (\"emissions totales :\")\n",
        "emissions_totales_dep_13_31 = emissions_dep_13_31.groupby('dep')['transports_total'].sum().reset_index()\n",
        "print(emissions_totales_dep_13_31)"
      ]
    },
    {
      "cell_type": "markdown",
      "id": "49f27bd9-d8e0-4548-b4d5-b88f079c03f1",
      "metadata": {
        "id": "49f27bd9-d8e0-4548-b4d5-b88f079c03f1"
      },
      "source": [
        "### Import des données de l’Insee\n",
        "\n",
        "En ce qui concerne nos informations communales, on va utiliser l’une des\n",
        "sources de l’Insee les plus utilisées : les données [`Filosofi`](https://www.insee.fr/fr/metadonnees/source/serie/s1172).\n",
        "Afin de faciliter la récupération de celles-ci, nous allons\n",
        "utiliser le *package* communautaire `pynsee` :"
      ]
    },
    {
      "cell_type": "markdown",
      "id": "70ccfde1-4dd9-4161-9f13-d2e3fed15ff8",
      "metadata": {
        "id": "70ccfde1-4dd9-4161-9f13-d2e3fed15ff8"
      },
      "source": [
        "<div class=\"alert alert-info\" role=\"alert\" style=\"color: rgba(0,0,0,.8); background-color: white; margin-top: 1em; margin-bottom: 1em; margin:1.5625emauto; padding:0 .6rem .8rem!important;overflow:hidden; page-break-inside:avoid; border-radius:.25rem; box-shadow:0 .2rem .5rem rgba(0,0,0,.05),0 0 .05rem rgba(0,0,0,.1); transition:color .25s,background-color .25s,border-color .25s ; border-right: 1px solid #dee2e6 ; border-top: 1px solid #dee2e6 ; border-bottom: 1px solid #dee2e6 ; border-left:.2rem solid #007bff80;\">\n",
        "<h3 class=\"alert-heading\"><i class=\"fa fa-comment\"></i> Note</h3>\n",
        "\n",
        "Le *package* `pynsee` comporte deux principaux points d’entrée :\n",
        "\n",
        "-   Les API de l’Insee, ce qui sera illustré dans le chapitre consacré.  \n",
        "-   Quelques jeux de données directement issus du site web de\n",
        "    l’Insee ([insee.fr](https://www.insee.fr/fr/accueil))  \n",
        "\n",
        "Dans ce chapitre, nous allons exclusivement utiliser cette deuxième\n",
        "approche. Cela se fera par le module `pynsee.download`.\n",
        "\n",
        "La liste des données disponibles depuis ce *package* est [ici](https://inseefrlab.github.io/DoReMIFaSol/articles/donnees_dispo.html).\n",
        "La fonction `download_file` attend un identifiant unique\n",
        "pour savoir quelle base de données aller chercher et\n",
        "restructurer depuis le\n",
        "site [insee.fr](https://www.insee.fr/fr/accueil).\n"
      ]
    },
    {
      "cell_type": "markdown",
      "id": "63ceec35-e2de-4f50-a09a-bc3a2f175e53",
      "metadata": {
        "id": "63ceec35-e2de-4f50-a09a-bc3a2f175e53"
      },
      "source": [
        "On va utiliser les données Filosofi (données de revenus) au niveau communal de 2016.\n",
        "Ce n’est pas la même année que les données d’émission de CO2, ce n’est donc pas parfaitement rigoureux,\n",
        "mais cela permettra tout de même d’illustrer\n",
        "les principales fonctionnalités de `Pandas`\n",
        "\n",
        "Le point d’entrée principal de la fonction `pynsee` est la fonction `download_file`.\n",
        "\n",
        "Le code pour télécharger les données est le suivant :"
      ]
    },
    {
      "cell_type": "code",
      "execution_count": null,
      "id": "4bae1739",
      "metadata": {
        "colab": {
          "base_uri": "https://localhost:8080/"
        },
        "id": "4bae1739",
        "outputId": "cf75f504-0656-4eda-e420-960cb4fdb7d1"
      },
      "outputs": [],
      "source": [
        "from pynsee.download import download_file\n",
        "filosofi = download_file(\"FILOSOFI_COM_2016\")"
      ]
    },
    {
      "cell_type": "markdown",
      "id": "6ada7492-1a8f-445c-b510-411f44ed3abe",
      "metadata": {
        "id": "6ada7492-1a8f-445c-b510-411f44ed3abe"
      },
      "source": [
        "Le *DataFrame* en question a l’aspect suivant :"
      ]
    },
    {
      "cell_type": "code",
      "execution_count": null,
      "id": "9eebee34",
      "metadata": {
        "colab": {
          "base_uri": "https://localhost:8080/"
        },
        "id": "9eebee34",
        "outputId": "98582f16-8466-4f8e-82cf-252116ac9242"
      },
      "outputs": [],
      "source": [
        "print(filosofi)"
      ]
    },
    {
      "cell_type": "markdown",
      "id": "37cf0953-233c-473a-a8ef-cc89c96cccc0",
      "metadata": {
        "id": "37cf0953-233c-473a-a8ef-cc89c96cccc0"
      },
      "source": [
        "`Pandas` a géré automatiquement les types de variables. Il le fait relativement bien, mais une vérification est toujours utile pour les variables qui ont un statut spécifique.\n",
        "\n",
        "Pour les variables qui ne sont pas en type `float` alors qu’elles devraient l’être, on modifie leur type."
      ]
    },
    {
      "cell_type": "code",
      "execution_count": null,
      "id": "20140e35",
      "metadata": {
        "id": "20140e35"
      },
      "outputs": [],
      "source": [
        "filosofi.loc[:, filosofi.columns[2:]] = (\n",
        "  filosofi.loc[:, filosofi.columns[2:]]\n",
        "  .apply(pd.to_numeric, errors='coerce')\n",
        ")"
      ]
    }
  ],
  "metadata": {
    "colab": {
      "include_colab_link": true,
      "provenance": []
    },
    "kernelspec": {
      "display_name": "Python 3",
      "language": "python",
      "name": "python3"
    },
    "language_info": {
      "codemirror_mode": {
        "name": "ipython",
        "version": 3
      },
      "file_extension": ".py",
      "mimetype": "text/x-python",
      "name": "python",
      "nbconvert_exporter": "python",
      "pygments_lexer": "ipython3",
      "version": "3.6.4"
    }
  },
  "nbformat": 4,
  "nbformat_minor": 5
}
